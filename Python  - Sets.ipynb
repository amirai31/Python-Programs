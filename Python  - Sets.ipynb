{
 "cells": [
  {
   "cell_type": "markdown",
   "id": "a4729af0",
   "metadata": {},
   "source": [
    "### SET "
   ]
  },
  {
   "cell_type": "markdown",
   "id": "e14593b8",
   "metadata": {},
   "source": [
    "#### 1. Write a Python program to remove an item from a set if it is present in the set."
   ]
  },
  {
   "cell_type": "code",
   "execution_count": 1,
   "id": "3041e34e",
   "metadata": {},
   "outputs": [
    {
     "name": "stdout",
     "output_type": "stream",
     "text": [
      "{0, 1, 3, 4, 5}\n",
      "{0, 1, 3, 4, 5}\n"
     ]
    }
   ],
   "source": [
    "set1 = {0, 1, 2, 3, 4, 5}\n",
    "\n",
    "n = 2\n",
    "if n in set1:\n",
    "    set1.discard(n)\n",
    "print(set1)\n",
    "\n",
    "n = 7\n",
    "if n in set1:\n",
    "    set1.discard(n)\n",
    "print(set1)"
   ]
  },
  {
   "cell_type": "markdown",
   "id": "aeffac4c",
   "metadata": {},
   "source": [
    "#### 2. Write a Python program to check if a set is a subset of another set."
   ]
  },
  {
   "cell_type": "code",
   "execution_count": 2,
   "id": "5f53d804",
   "metadata": {},
   "outputs": [
    {
     "name": "stdout",
     "output_type": "stream",
     "text": [
      "If x is subset of y: False\n",
      "If y is subset of z: False\n",
      "If z is subset of y: True\n"
     ]
    }
   ],
   "source": [
    "x = {'mango', 'apple'}\n",
    "y = {'mango', 'orange'}\n",
    "z = {'mango'}\n",
    "\n",
    "print(\"If x is subset of y:\", x.issubset(y))\n",
    "print(\"If y is subset of z:\", y.issubset(z))\n",
    "print(\"If z is subset of y:\", z.issubset(y))"
   ]
  },
  {
   "cell_type": "markdown",
   "id": "ed7f3d83",
   "metadata": {},
   "source": [
    "#### 3. Write a Python program to remove all elements from a given set at once."
   ]
  },
  {
   "cell_type": "code",
   "execution_count": 3,
   "id": "443bc090",
   "metadata": {},
   "outputs": [
    {
     "name": "stdout",
     "output_type": "stream",
     "text": [
      "set()\n"
     ]
    }
   ],
   "source": [
    "set3 = {'Green', 'Black', 'Red', 'White'}\n",
    "\n",
    "set3.clear()\n",
    "print(set3)"
   ]
  },
  {
   "cell_type": "markdown",
   "id": "b144cbf3",
   "metadata": {},
   "source": [
    "#### 4. Write a Python program to check if two given sets have no elements in common."
   ]
  },
  {
   "cell_type": "code",
   "execution_count": 4,
   "id": "7240e523",
   "metadata": {},
   "outputs": [
    {
     "name": "stdout",
     "output_type": "stream",
     "text": [
      "False\n"
     ]
    }
   ],
   "source": [
    "S1={1, 2, 3, 4}\n",
    "S2={4, 5, 6, 7}\n",
    "\n",
    "print(S1.isdisjoint(S2))"
   ]
  },
  {
   "cell_type": "markdown",
   "id": "183e43ee",
   "metadata": {},
   "source": [
    "#### 5. Write a Python program to check if a given value(10) is present in a set or not."
   ]
  },
  {
   "cell_type": "code",
   "execution_count": 5,
   "id": "f8581986",
   "metadata": {},
   "outputs": [
    {
     "name": "stdout",
     "output_type": "stream",
     "text": [
      "False\n"
     ]
    }
   ],
   "source": [
    "INPUT = {1, 3, 5, 7, 9, 11}\n",
    "val = 10\n",
    "\n",
    "print(val in INPUT)"
   ]
  },
  {
   "cell_type": "markdown",
   "id": "57a41660",
   "metadata": {},
   "source": [
    "#### 6. Write a Python program to remove all duplicates from a given list of strings and return a list of unique strings. Use the Python set data type."
   ]
  },
  {
   "cell_type": "code",
   "execution_count": 6,
   "id": "c5c2b068",
   "metadata": {},
   "outputs": [
    {
     "name": "stdout",
     "output_type": "stream",
     "text": [
      "['Exercises', 'Practice', 'Solution', 'Python']\n"
     ]
    }
   ],
   "source": [
    "list10 = ['Python', 'Exercises', 'Practice', 'Solution', 'Exercises']\n",
    "\n",
    "print(list(set(list10)))"
   ]
  },
  {
   "cell_type": "code",
   "execution_count": 7,
   "id": "6038e2cc",
   "metadata": {},
   "outputs": [],
   "source": [
    "list1 = ['Python', 'Exercises', 'Practice', 'Solution', 'Exercises']"
   ]
  },
  {
   "cell_type": "code",
   "execution_count": 8,
   "id": "7e6fc00a",
   "metadata": {},
   "outputs": [],
   "source": [
    "new = set(list1)"
   ]
  },
  {
   "cell_type": "code",
   "execution_count": 9,
   "id": "9ad76b9c",
   "metadata": {},
   "outputs": [
    {
     "name": "stdout",
     "output_type": "stream",
     "text": [
      "{'Exercises', 'Practice', 'Solution', 'Python'}\n"
     ]
    }
   ],
   "source": [
    "print(new)"
   ]
  },
  {
   "cell_type": "code",
   "execution_count": 10,
   "id": "04bf763d",
   "metadata": {},
   "outputs": [
    {
     "name": "stdout",
     "output_type": "stream",
     "text": [
      "['Exercises', 'Practice', 'Solution', 'Python']\n"
     ]
    }
   ],
   "source": [
    "print(list(new))"
   ]
  }
 ],
 "metadata": {
  "kernelspec": {
   "display_name": "Python 3 (ipykernel)",
   "language": "python",
   "name": "python3"
  },
  "language_info": {
   "codemirror_mode": {
    "name": "ipython",
    "version": 3
   },
   "file_extension": ".py",
   "mimetype": "text/x-python",
   "name": "python",
   "nbconvert_exporter": "python",
   "pygments_lexer": "ipython3",
   "version": "3.9.12"
  }
 },
 "nbformat": 4,
 "nbformat_minor": 5
}
