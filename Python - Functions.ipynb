{
 "cells": [
  {
   "cell_type": "markdown",
   "id": "398813c2",
   "metadata": {},
   "source": [
    "### Python functions\n"
   ]
  },
  {
   "cell_type": "markdown",
   "id": "7bc57cb9",
   "metadata": {},
   "source": [
    "#### Q1. Write a Python function to calculate the factorial of a number (a non-negative integer). The function accepts the number as an argument."
   ]
  },
  {
   "cell_type": "code",
   "execution_count": 1,
   "id": "969455f8",
   "metadata": {},
   "outputs": [
    {
     "name": "stdout",
     "output_type": "stream",
     "text": [
      "Enter the number:5\n",
      "Factorial of 5 is 120\n"
     ]
    }
   ],
   "source": [
    "def fact(num):\n",
    "    fact = 1\n",
    "    \n",
    "    for i in range(1,num+1):\n",
    "        fact *= i\n",
    "    \n",
    "    return fact\n",
    "\n",
    "val = int(input(\"Enter the number:\"))\n",
    "\n",
    "print(\"Factorial of\",val,\"is\",fact(val))\n"
   ]
  },
  {
   "cell_type": "markdown",
   "id": "dca1c9df",
   "metadata": {},
   "source": [
    "#### Q2. Write a Python function that accepts a string and counts the number of upper and lower-case letters."
   ]
  },
  {
   "cell_type": "code",
   "execution_count": 2,
   "id": "199b889a",
   "metadata": {},
   "outputs": [
    {
     "name": "stdout",
     "output_type": "stream",
     "text": [
      "Enter the string:The Brown Fox\n",
      "Number of Upper case characters : 3\n",
      "Number of Lower case Characters : 8\n"
     ]
    }
   ],
   "source": [
    "def str_check(string):\n",
    "    up_count = 0\n",
    "    lo_count = 0\n",
    "\n",
    "    for item in string:\n",
    "        if item.isupper():\n",
    "            up_count += 1\n",
    "        elif item.islower():\n",
    "            lo_count += 1\n",
    "    \n",
    "    return (up_count, lo_count)\n",
    "\n",
    "val1,val2 = str_check(input(\"Enter the string:\"))\n",
    "\n",
    "print(\"Number of Upper case characters :\", val1)\n",
    "print(\"Number of Lower case Characters :\", val2)\n"
   ]
  },
  {
   "cell_type": "markdown",
   "id": "09a8b6dd",
   "metadata": {},
   "source": [
    "#### Q3. Write a Python function to check whether a number falls within a given range(3,9)"
   ]
  },
  {
   "cell_type": "code",
   "execution_count": 3,
   "id": "aeb8111f",
   "metadata": {},
   "outputs": [
    {
     "name": "stdout",
     "output_type": "stream",
     "text": [
      "Enter the number:6\n",
      "6 is in the range(3,9)\n"
     ]
    }
   ],
   "source": [
    "def checks(num):\n",
    "    for i in range(3,9):\n",
    "        if i == num:\n",
    "            return True\n",
    "\n",
    "val = int(input(\"Enter the number:\"))  \n",
    "\n",
    "if (checks(val)):\n",
    "    print(val,\"is in the range(3,9)\")\n",
    "else:\n",
    "    print(val,\"is not in the range(3,9)\")\n",
    "    "
   ]
  },
  {
   "cell_type": "markdown",
   "id": "34376cb8",
   "metadata": {},
   "source": [
    "#### Q4. Write a Python function that takes an integer as input and checks if it is a prime number."
   ]
  },
  {
   "cell_type": "code",
   "execution_count": 4,
   "id": "2e066ee9",
   "metadata": {},
   "outputs": [
    {
     "name": "stdout",
     "output_type": "stream",
     "text": [
      "Enter the number:13\n",
      "13 is a prime number\n"
     ]
    }
   ],
   "source": [
    "def prime_check(num):\n",
    "    for i in range(2,num//2):\n",
    "        if num%i == 0:\n",
    "            return True\n",
    "\n",
    "val = int(input(\"Enter the number:\"))    \n",
    "\n",
    "if (prime_check(val)):\n",
    "    print(val,\"is not a prime number\")\n",
    "else:\n",
    "    print(val,\"is a prime number\")\n",
    "    "
   ]
  },
  {
   "cell_type": "markdown",
   "id": "4c454d65",
   "metadata": {},
   "source": [
    "#### Q5. Write a Python function that takes a list of numbers as input and returns the average of the numbers."
   ]
  },
  {
   "cell_type": "code",
   "execution_count": 5,
   "id": "d664738b",
   "metadata": {},
   "outputs": [
    {
     "name": "stdout",
     "output_type": "stream",
     "text": [
      "Average of numbers in the list [1, 2, 3, 4, 5, 6, 7, 8, 9, 10] is 5.5\n"
     ]
    }
   ],
   "source": [
    "def average(list):\n",
    "    sum = 0\n",
    "    \n",
    "    for item in list:\n",
    "        sum += item \n",
    "    average = sum/len(list)\n",
    "    \n",
    "    return average\n",
    "\n",
    "list1 = [1,2,3,4,5,6,7,8,9,10]\n",
    "\n",
    "print(\"Average of numbers in the list\",list1,\"is\",average(list1))\n"
   ]
  },
  {
   "cell_type": "markdown",
   "id": "4636c08d",
   "metadata": {},
   "source": [
    "#### Q6. Write a Python function that takes a list as input and returns a new list containing only the unique elements from the input list."
   ]
  },
  {
   "cell_type": "code",
   "execution_count": 6,
   "id": "66354b13",
   "metadata": {},
   "outputs": [
    {
     "name": "stdout",
     "output_type": "stream",
     "text": [
      "Unique numbers in the list [1, 2, 3, 4, 1, 2, 0, 0, 1] are [1, 2, 3, 4, 0]\n"
     ]
    }
   ],
   "source": [
    "def uniq(list):\n",
    "    new = []\n",
    "    \n",
    "    for item in list:\n",
    "        if item not in new:\n",
    "            new.append(item)\n",
    "    \n",
    "    return new\n",
    "\n",
    "list1 = [1,2,3,4,1,2,0,0,1]\n",
    "\n",
    "print(\"Unique numbers in the list\",list1,\"are\",uniq(list1))\n"
   ]
  },
  {
   "cell_type": "markdown",
   "id": "2e315ded",
   "metadata": {},
   "source": [
    "#### Q7. Write a Python function that takes two strings as input and checks if they are anagrams (contain the same characters in any order)."
   ]
  },
  {
   "cell_type": "code",
   "execution_count": 7,
   "id": "bf741eb1",
   "metadata": {},
   "outputs": [
    {
     "name": "stdout",
     "output_type": "stream",
     "text": [
      "Enter the first string:ami\n",
      "Enter the second string:ima\n",
      "The strings ami and ima are anagrams\n"
     ]
    }
   ],
   "source": [
    "def checking(string1,string2):\n",
    "    if sorted(string1) == sorted(string2):\n",
    "        print(\"The strings {} and {} are anagrams\".format(string1,string2))\n",
    "    else:\n",
    "        print(\"The strings {} and {} are not anagrams\".format(string1,string2))\n",
    "\n",
    "s1 = input(\"Enter the first string:\")\n",
    "s2 = input(\"Enter the second string:\")\n",
    "\n",
    "checking(s1,s2)\n"
   ]
  },
  {
   "cell_type": "markdown",
   "id": "b77a6220",
   "metadata": {},
   "source": [
    "#### Q8.Write a Python function that takes a list and an element as input and returns the number of occurrences of that element in the list."
   ]
  },
  {
   "cell_type": "code",
   "execution_count": 8,
   "id": "83c6db49",
   "metadata": {},
   "outputs": [
    {
     "name": "stdout",
     "output_type": "stream",
     "text": [
      "Enter the element to count:4\n",
      "Occurrence of number 4 in the list [1, 2, 3, 4, 2, 2, 3, 4, 5, 9, 2, 6] is 2\n"
     ]
    }
   ],
   "source": [
    "def counting(input_list,num):\n",
    "    count = input_list.count(num)\n",
    "    \n",
    "    return count\n",
    "\n",
    "num = int(input(\"Enter the element to count:\"))\n",
    "\n",
    "list1 = [1,2,3,4,2,2,3,4,5,9,2,6]\n",
    "\n",
    "print(\"Occurrence of number {} in the list {} is {}\".format(num,list1,counting([1,2,3,4,2,2,3,4,5,9,2,6],num)))\n"
   ]
  },
  {
   "cell_type": "markdown",
   "id": "567e087a",
   "metadata": {},
   "source": [
    "#### Q9.Write a Python function that takes a list of tuples as input and returns the list sorted based on the second element of each tuple."
   ]
  },
  {
   "cell_type": "code",
   "execution_count": 9,
   "id": "30576854",
   "metadata": {},
   "outputs": [
    {
     "name": "stdout",
     "output_type": "stream",
     "text": [
      "Sorted list is [(2, 1), (3, 2), (1, 3), (5, 4), (4, 5)]\n"
     ]
    }
   ],
   "source": [
    "def sorting(t):\n",
    "    t.sort(key = lambda x:x[1])\n",
    "    \n",
    "    return t\n",
    "\n",
    "tuple1 = [(1, 3), (2, 1), (3, 2), (4, 5), (5, 4)]\n",
    "\n",
    "print(\"Sorted list is\",sorting(tuple1))\n"
   ]
  },
  {
   "cell_type": "markdown",
   "id": "94b05678",
   "metadata": {},
   "source": [
    "#### Q10.Write a Python function that takes a list of integers as input and returns the second largest element in the list."
   ]
  },
  {
   "cell_type": "code",
   "execution_count": 10,
   "id": "fb1bc8c6",
   "metadata": {},
   "outputs": [
    {
     "name": "stdout",
     "output_type": "stream",
     "text": [
      "Second largest element in the list is: 8\n"
     ]
    }
   ],
   "source": [
    "def seclargest(l):\n",
    "    l.sort()\n",
    "    \n",
    "    return l[-2]\n",
    "\n",
    "list = [3, 5, 2, 8, 9, 5, 1]\n",
    "\n",
    "print(\"Second largest element in the list is:\",seclargest(list))\n"
   ]
  },
  {
   "cell_type": "markdown",
   "id": "b3491732",
   "metadata": {},
   "source": [
    "#### Q11.Write a Python lambda function that takes a list of numbers and an exponent n as input and returns a new list with each element raised to the power of n."
   ]
  },
  {
   "cell_type": "code",
   "execution_count": 11,
   "id": "c47a1bd0",
   "metadata": {},
   "outputs": [
    {
     "name": "stdout",
     "output_type": "stream",
     "text": [
      "Enter the exponent:2\n",
      "New list with element raised to the power of 2 is: [1, 4, 9, 16, 25]\n"
     ]
    }
   ],
   "source": [
    "input_numbers = [1, 2, 3, 4, 5]\n",
    "\n",
    "n = int(input(\"Enter the exponent:\"))\n",
    "\n",
    "print(\"New list with element raised to the power of {} is:\".format(n),end = \" \")\n",
    "\n",
    "print(list(map(lambda x:x**n,input_numbers)))\n"
   ]
  },
  {
   "cell_type": "markdown",
   "id": "08daa2d7",
   "metadata": {},
   "source": [
    "#### Q12. Write a Python function that takes a list of integers as input and returns a new list containing only the odd numbers."
   ]
  },
  {
   "cell_type": "code",
   "execution_count": 12,
   "id": "371c552f",
   "metadata": {},
   "outputs": [
    {
     "data": {
      "text/plain": [
       "[1, 3, 5, 7, 9]"
      ]
     },
     "execution_count": 12,
     "metadata": {},
     "output_type": "execute_result"
    }
   ],
   "source": [
    "# Solution1\n",
    "# using lambda function\n",
    "\n",
    "list1  = [1, 2, 3, 4, 5, 6, 7, 8, 9, 10]\n",
    "\n",
    "list(filter(lambda x:x%2 != 0, list1))\n"
   ]
  },
  {
   "cell_type": "code",
   "execution_count": 13,
   "id": "723c08ae",
   "metadata": {},
   "outputs": [
    {
     "data": {
      "text/plain": [
       "[1, 3, 5, 7, 9]"
      ]
     },
     "execution_count": 13,
     "metadata": {},
     "output_type": "execute_result"
    }
   ],
   "source": [
    "# Solution 2\n",
    "# using list comprehension\n",
    "\n",
    "def odd_num(list):\n",
    "    new = [x for x in list if x%2 != 0]\n",
    "    return new\n",
    "\n",
    "odd_num([1, 2, 3, 4, 5, 6, 7, 8, 9, 10])\n"
   ]
  },
  {
   "cell_type": "markdown",
   "id": "1a00f1be",
   "metadata": {},
   "source": [
    "#### Q13. Write a Python function to reverse a list at a specific location"
   ]
  },
  {
   "cell_type": "code",
   "execution_count": 14,
   "id": "ed6e44d9",
   "metadata": {},
   "outputs": [
    {
     "name": "stdout",
     "output_type": "stream",
     "text": [
      "Reversed list is [10, 20, 50, 40, 30, 60, 70, 80]\n"
     ]
    }
   ],
   "source": [
    "def reversing(list1,start_pos,end_pos):\n",
    "    return list1[0:start_pos] + list1[end_pos:start_pos-1:-1] + list1[end_pos+1:]\n",
    "    \n",
    "list1 = [10,20,30,40,50,60,70,80]\n",
    "start_pos = 2\n",
    "end_pos = 4\n",
    "\n",
    "print(\"Reversed list is\",reversing(list1,start_pos,end_pos))\n"
   ]
  }
 ],
 "metadata": {
  "kernelspec": {
   "display_name": "Python 3 (ipykernel)",
   "language": "python",
   "name": "python3"
  },
  "language_info": {
   "codemirror_mode": {
    "name": "ipython",
    "version": 3
   },
   "file_extension": ".py",
   "mimetype": "text/x-python",
   "name": "python",
   "nbconvert_exporter": "python",
   "pygments_lexer": "ipython3",
   "version": "3.9.12"
  }
 },
 "nbformat": 4,
 "nbformat_minor": 5
}
