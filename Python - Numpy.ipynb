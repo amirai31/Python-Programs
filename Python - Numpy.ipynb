{
 "cells": [
  {
   "cell_type": "markdown",
   "id": "2aeb9970",
   "metadata": {},
   "source": [
    "### NUMPY"
   ]
  },
  {
   "cell_type": "markdown",
   "id": "3dbdb16b",
   "metadata": {},
   "source": [
    "#### 1. Create a NumPy array containing integers from 1 to 10."
   ]
  },
  {
   "cell_type": "code",
   "execution_count": 1,
   "id": "0caa412b",
   "metadata": {},
   "outputs": [],
   "source": [
    "import numpy as np"
   ]
  },
  {
   "cell_type": "code",
   "execution_count": 2,
   "id": "73fd157d",
   "metadata": {},
   "outputs": [
    {
     "data": {
      "text/plain": [
       "array([ 1,  2,  3,  4,  5,  6,  7,  8,  9, 10])"
      ]
     },
     "execution_count": 2,
     "metadata": {},
     "output_type": "execute_result"
    }
   ],
   "source": [
    "n1 = np.arange(1,11)\n",
    "n1"
   ]
  },
  {
   "cell_type": "markdown",
   "id": "b8954f29",
   "metadata": {},
   "source": [
    "#### 2. Create a 2D NumPy array with shape (3, 4) filled with random float values between 0 and 1."
   ]
  },
  {
   "cell_type": "code",
   "execution_count": 3,
   "id": "e0696e1d",
   "metadata": {},
   "outputs": [
    {
     "data": {
      "text/plain": [
       "array([[0.58022661, 0.17070165, 0.97951767, 0.46667753],\n",
       "       [0.59665716, 0.51648971, 0.33706588, 0.74251813],\n",
       "       [0.04172325, 0.52240536, 0.97526588, 0.3534865 ]])"
      ]
     },
     "execution_count": 3,
     "metadata": {},
     "output_type": "execute_result"
    }
   ],
   "source": [
    "n2 = np.random.rand(3,4)\n",
    "n2"
   ]
  },
  {
   "cell_type": "markdown",
   "id": "afded6a5",
   "metadata": {},
   "source": [
    "#### 3. Given the following NumPy array: arr = np.array([10, 20, 30, 40, 50]) Add 5 to each element of the array."
   ]
  },
  {
   "cell_type": "code",
   "execution_count": 4,
   "id": "5046fb47",
   "metadata": {},
   "outputs": [
    {
     "name": "stdout",
     "output_type": "stream",
     "text": [
      "[15 25 35 45 55]\n"
     ]
    }
   ],
   "source": [
    "arr = np.array([10, 20, 30, 40, 50])\n",
    "\n",
    "print(arr+5)"
   ]
  },
  {
   "cell_type": "markdown",
   "id": "b55fec15",
   "metadata": {},
   "source": [
    "#### 4. Given two NumPy arrays: arr1 = np.array([1, 2, 3, 4]) arr2 = np.array([5, 6, 7, 8]). Concatenate them into a single array.\n"
   ]
  },
  {
   "cell_type": "code",
   "execution_count": 5,
   "id": "b67fc751",
   "metadata": {},
   "outputs": [
    {
     "data": {
      "text/plain": [
       "array([1, 2, 3, 4, 5, 6, 7, 8])"
      ]
     },
     "execution_count": 5,
     "metadata": {},
     "output_type": "execute_result"
    }
   ],
   "source": [
    "arr1 = np.array([1, 2, 3, 4]) \n",
    "arr2 = np.array([5, 6, 7, 8])\n",
    "\n",
    "arr3 = np.concatenate((arr1,arr2))\n",
    "arr3"
   ]
  },
  {
   "cell_type": "markdown",
   "id": "4cd28155",
   "metadata": {},
   "source": [
    "#### 5. Create a NumPy array of 10 elements with equally spaced values from 0 to 9.\n"
   ]
  },
  {
   "cell_type": "code",
   "execution_count": 6,
   "id": "f8aa8e89",
   "metadata": {},
   "outputs": [
    {
     "data": {
      "text/plain": [
       "array([0., 1., 2., 3., 4., 5., 6., 7., 8., 9.])"
      ]
     },
     "execution_count": 6,
     "metadata": {},
     "output_type": "execute_result"
    }
   ],
   "source": [
    "n5 = np.linspace(0,9,10)\n",
    "n5"
   ]
  },
  {
   "cell_type": "markdown",
   "id": "2d841321",
   "metadata": {},
   "source": [
    "#### 6. Given a NumPy array: arr = np.array([1, 2, 3, 4, 5, 6]). Reverse the elements in the array.\n"
   ]
  },
  {
   "cell_type": "code",
   "execution_count": 7,
   "id": "4b60b4c5",
   "metadata": {},
   "outputs": [
    {
     "data": {
      "text/plain": [
       "array([6, 5, 4, 3, 2, 1])"
      ]
     },
     "execution_count": 7,
     "metadata": {},
     "output_type": "execute_result"
    }
   ],
   "source": [
    "arr = np.array([1, 2, 3, 4, 5, 6])\n",
    "\n",
    "np.flip(arr)"
   ]
  },
  {
   "cell_type": "markdown",
   "id": "262b190c",
   "metadata": {},
   "source": [
    "#### 7. Create a 3x3 identity matrix using NumPy.\n"
   ]
  },
  {
   "cell_type": "code",
   "execution_count": 8,
   "id": "21600775",
   "metadata": {},
   "outputs": [
    {
     "data": {
      "text/plain": [
       "array([[1., 0., 0.],\n",
       "       [0., 1., 0.],\n",
       "       [0., 0., 1.]])"
      ]
     },
     "execution_count": 8,
     "metadata": {},
     "output_type": "execute_result"
    }
   ],
   "source": [
    "n7 = np.identity(3)\n",
    "n7"
   ]
  },
  {
   "cell_type": "markdown",
   "id": "da7268c9",
   "metadata": {},
   "source": [
    "#### 8. Calculate the mean, median, and standard deviation of the following NumPy array: arr = np.array([15, 20, 25, 30, 35])\n"
   ]
  },
  {
   "cell_type": "code",
   "execution_count": 9,
   "id": "172e39f1",
   "metadata": {},
   "outputs": [
    {
     "name": "stdout",
     "output_type": "stream",
     "text": [
      "Mean: 25.0\n",
      "Median: 25.0\n",
      "Standard deviation: 7.0710678118654755\n"
     ]
    }
   ],
   "source": [
    "arr = np.array([15, 20, 25, 30, 35])\n",
    "\n",
    "print(\"Mean:\", np.mean(arr))\n",
    "print(\"Median:\", np.median(arr))\n",
    "print(\"Standard deviation:\", np.std(arr))"
   ]
  },
  {
   "cell_type": "markdown",
   "id": "668f118f",
   "metadata": {},
   "source": [
    "#### 9. Given a 2D NumPy array: arr = np.array([[1, 2, 3], [4, 5, 6], [7, 8, 9]]). Get the diagonal elements of the array."
   ]
  },
  {
   "cell_type": "code",
   "execution_count": 10,
   "id": "26c77085",
   "metadata": {},
   "outputs": [
    {
     "name": "stdout",
     "output_type": "stream",
     "text": [
      "[[1 2 3]\n",
      " [4 5 6]\n",
      " [7 8 9]]\n",
      "Diagonal elements are: [1 5 9]\n"
     ]
    }
   ],
   "source": [
    "arr = np.array([[1, 2, 3], [4, 5, 6], [7, 8, 9]])\n",
    "\n",
    "print(arr)\n",
    "print(\"Diagonal elements are:\", np.diag(arr))"
   ]
  },
  {
   "cell_type": "markdown",
   "id": "69498db4",
   "metadata": {},
   "source": [
    "#### 10. Create a NumPy array of 10 random integers between 1 and 100 (inclusive).\n"
   ]
  },
  {
   "cell_type": "code",
   "execution_count": 11,
   "id": "f6317dd3",
   "metadata": {},
   "outputs": [
    {
     "data": {
      "text/plain": [
       "array([26, 97, 16, 17, 14, 79, 63, 62,  1, 31])"
      ]
     },
     "execution_count": 11,
     "metadata": {},
     "output_type": "execute_result"
    }
   ],
   "source": [
    "np.random.randint(1,101,10)"
   ]
  },
  {
   "cell_type": "markdown",
   "id": "0aece00c",
   "metadata": {},
   "source": [
    "#### 11. Create a 2D NumPy array of shape (5, 5) with random integers between 1 and 50(inclusive).\n"
   ]
  },
  {
   "cell_type": "code",
   "execution_count": 12,
   "id": "f006a541",
   "metadata": {},
   "outputs": [
    {
     "data": {
      "text/plain": [
       "array([[ 3, 29, 26, 15, 18],\n",
       "       [46,  7, 23, 46, 33],\n",
       "       [20,  3, 48, 25, 26],\n",
       "       [35, 40, 37,  2,  7],\n",
       "       [19, 24, 28,  8, 24]])"
      ]
     },
     "execution_count": 12,
     "metadata": {},
     "output_type": "execute_result"
    }
   ],
   "source": [
    "np.random.randint(1,51,size=(5,5))"
   ]
  },
  {
   "cell_type": "markdown",
   "id": "61c447b5",
   "metadata": {},
   "source": [
    "#### 12. Given a 2D NumPy array: arr = np.array([[1, 2, 3], [4, 5, 6], [7, 8, 9]]). Calculate the sum of all the elements in the array.\n"
   ]
  },
  {
   "cell_type": "code",
   "execution_count": 13,
   "id": "61f377eb",
   "metadata": {},
   "outputs": [
    {
     "name": "stdout",
     "output_type": "stream",
     "text": [
      "Sum of all elements: 45\n"
     ]
    }
   ],
   "source": [
    "arr = np.array([[1, 2, 3], [4, 5, 6], [7, 8, 9]])\n",
    "\n",
    "print(\"Sum of all elements:\", np.sum(arr))"
   ]
  },
  {
   "cell_type": "markdown",
   "id": "b844a427",
   "metadata": {},
   "source": [
    "#### 13. Create a NumPy array with 100 evenly spaced values between 0 and 1 (inclusive) and reshape it into a 10x10 matrix.\n"
   ]
  },
  {
   "cell_type": "code",
   "execution_count": 14,
   "id": "b01bbbe6",
   "metadata": {},
   "outputs": [
    {
     "data": {
      "text/plain": [
       "array([[0.        , 0.01010101, 0.02020202, 0.03030303, 0.04040404,\n",
       "        0.05050505, 0.06060606, 0.07070707, 0.08080808, 0.09090909],\n",
       "       [0.1010101 , 0.11111111, 0.12121212, 0.13131313, 0.14141414,\n",
       "        0.15151515, 0.16161616, 0.17171717, 0.18181818, 0.19191919],\n",
       "       [0.2020202 , 0.21212121, 0.22222222, 0.23232323, 0.24242424,\n",
       "        0.25252525, 0.26262626, 0.27272727, 0.28282828, 0.29292929],\n",
       "       [0.3030303 , 0.31313131, 0.32323232, 0.33333333, 0.34343434,\n",
       "        0.35353535, 0.36363636, 0.37373737, 0.38383838, 0.39393939],\n",
       "       [0.4040404 , 0.41414141, 0.42424242, 0.43434343, 0.44444444,\n",
       "        0.45454545, 0.46464646, 0.47474747, 0.48484848, 0.49494949],\n",
       "       [0.50505051, 0.51515152, 0.52525253, 0.53535354, 0.54545455,\n",
       "        0.55555556, 0.56565657, 0.57575758, 0.58585859, 0.5959596 ],\n",
       "       [0.60606061, 0.61616162, 0.62626263, 0.63636364, 0.64646465,\n",
       "        0.65656566, 0.66666667, 0.67676768, 0.68686869, 0.6969697 ],\n",
       "       [0.70707071, 0.71717172, 0.72727273, 0.73737374, 0.74747475,\n",
       "        0.75757576, 0.76767677, 0.77777778, 0.78787879, 0.7979798 ],\n",
       "       [0.80808081, 0.81818182, 0.82828283, 0.83838384, 0.84848485,\n",
       "        0.85858586, 0.86868687, 0.87878788, 0.88888889, 0.8989899 ],\n",
       "       [0.90909091, 0.91919192, 0.92929293, 0.93939394, 0.94949495,\n",
       "        0.95959596, 0.96969697, 0.97979798, 0.98989899, 1.        ]])"
      ]
     },
     "execution_count": 14,
     "metadata": {},
     "output_type": "execute_result"
    }
   ],
   "source": [
    "n13 = np.linspace(0,1,100)\n",
    "\n",
    "n13.reshape((10,10))"
   ]
  },
  {
   "cell_type": "markdown",
   "id": "0d439407",
   "metadata": {},
   "source": [
    "#### 14. Given two NumPy arrays:\n",
    "arr1 = np.array([1, 2, 3, 4]) arr2 = np.array([4, 5, 6, 7, 8])\n",
    "Find the common elements between the two arrays.\n"
   ]
  },
  {
   "cell_type": "code",
   "execution_count": 15,
   "id": "7d923c2d",
   "metadata": {},
   "outputs": [
    {
     "name": "stdout",
     "output_type": "stream",
     "text": [
      "[4]\n"
     ]
    }
   ],
   "source": [
    "arr1 = np.array([1, 2, 3, 4]) \n",
    "arr2 = np.array([4, 5, 6, 7, 8])\n",
    "\n",
    "print(np.intersect1d(arr1,arr2))"
   ]
  },
  {
   "cell_type": "markdown",
   "id": "8dcc43e0",
   "metadata": {},
   "source": [
    "#### 15. Create a NumPy array containing 10 random integers between -50 and 50 (inclusive). Replace all negative values in the array with 0.\n"
   ]
  },
  {
   "cell_type": "code",
   "execution_count": 16,
   "id": "898627c6",
   "metadata": {},
   "outputs": [
    {
     "name": "stdout",
     "output_type": "stream",
     "text": [
      "[-34  25 -50  39 -12  13 -37 -33 -24 -10]\n",
      "[ 0 25  0 39  0 13  0  0  0  0]\n"
     ]
    }
   ],
   "source": [
    "n15 = np.random.randint(-50,51,10)\n",
    "print(n15)\n",
    "\n",
    "n15[n15<0] = 0\n",
    "\n",
    "print(n15)"
   ]
  },
  {
   "cell_type": "markdown",
   "id": "d93cfa0c",
   "metadata": {},
   "source": [
    "#### 16. Given a 2D NumPy array:\n",
    "arr = np.array([[1, 2, 3], [4, 5, 6], [7, 8, 9]])\n",
    "Calculate the sum of each row and each column separately.\n"
   ]
  },
  {
   "cell_type": "code",
   "execution_count": 17,
   "id": "8275f7ab",
   "metadata": {},
   "outputs": [
    {
     "name": "stdout",
     "output_type": "stream",
     "text": [
      "Sum of each row: [ 6 15 24]\n",
      "Sum of each column: [12 15 18]\n"
     ]
    }
   ],
   "source": [
    "arr = np.array([[1, 2, 3], [4, 5, 6], [7, 8, 9]]) \n",
    "\n",
    "print(\"Sum of each row:\", np.sum(arr, axis = 1))\n",
    "print(\"Sum of each column:\", np.sum(arr, axis = 0))"
   ]
  },
  {
   "cell_type": "markdown",
   "id": "60e04e64",
   "metadata": {},
   "source": [
    "#### 17. Create a NumPy array of shape (6, 6) with diagonal elements as 1, 2, 3, 4, 5, and 6, and all other elements as 0.\n"
   ]
  },
  {
   "cell_type": "code",
   "execution_count": 18,
   "id": "24ed2322",
   "metadata": {},
   "outputs": [
    {
     "data": {
      "text/plain": [
       "array([[1, 0, 0, 0, 0, 0],\n",
       "       [0, 2, 0, 0, 0, 0],\n",
       "       [0, 0, 3, 0, 0, 0],\n",
       "       [0, 0, 0, 4, 0, 0],\n",
       "       [0, 0, 0, 0, 5, 0],\n",
       "       [0, 0, 0, 0, 0, 6]])"
      ]
     },
     "execution_count": 18,
     "metadata": {},
     "output_type": "execute_result"
    }
   ],
   "source": [
    "n17 = np.diag([1, 2, 3, 4, 5, 6])\n",
    "n17"
   ]
  },
  {
   "cell_type": "markdown",
   "id": "1a3e6a20",
   "metadata": {},
   "source": [
    "#### 18. Given a NumPy array:\n",
    "arr = np.array([1, 2, 3, 4, 5])\n",
    "Normalize the array so that the values range from 0 to 1.\n"
   ]
  },
  {
   "cell_type": "code",
   "execution_count": 19,
   "id": "84e0cb78",
   "metadata": {},
   "outputs": [
    {
     "name": "stdout",
     "output_type": "stream",
     "text": [
      "Normalised array: [0.   0.25 0.5  0.75 1.  ]\n"
     ]
    }
   ],
   "source": [
    "arr = np.array([1, 2, 3, 4, 5])\n",
    "\n",
    "norm_arr = (arr - np.min(arr)) / (np.max(arr) - np.min(arr))\n",
    "print(\"Normalised array:\", norm_arr)"
   ]
  },
  {
   "cell_type": "markdown",
   "id": "a59b6ad9",
   "metadata": {},
   "source": [
    "#### 19. Create a NumPy array with 20 random integers between 1 and 100 (inclusive). Find the maximum value and its index in the array.\n"
   ]
  },
  {
   "cell_type": "code",
   "execution_count": 20,
   "id": "8e39a0f5",
   "metadata": {},
   "outputs": [
    {
     "name": "stdout",
     "output_type": "stream",
     "text": [
      "Array: [97 60 39 60 10 14 49 97 58 20 28 55 97 11 84 42 27 24 25 12]\n",
      "Maximum value: 97\n",
      "The index of maximum value: 0\n"
     ]
    }
   ],
   "source": [
    "#Solution 1\n",
    "n19 = np.random.randint(1,101,20)\n",
    "\n",
    "print(\"Array:\",n19)\n",
    "print(\"Maximum value:\", n19.max())\n",
    "print(\"The index of maximum value:\", n19.argmax())\n"
   ]
  },
  {
   "cell_type": "code",
   "execution_count": 21,
   "id": "40e9eac4",
   "metadata": {},
   "outputs": [
    {
     "name": "stdout",
     "output_type": "stream",
     "text": [
      "Array: [ 47  75  55  82  27  51  40 100  94  52   5  84  28  83  71  22  71  72\n",
      "  99  97]\n",
      "Maximum value: 100\n",
      "The index of maximum value: (array([7], dtype=int64),)\n"
     ]
    }
   ],
   "source": [
    "#Solution 2\n",
    "arr = np.random.randint(1,101,20)\n",
    "print(\"Array:\",arr)\n",
    "\n",
    "print(\"Maximum value:\", arr.max())\n",
    "print(\"The index of maximum value:\", np.where(arr == arr.max()))\n"
   ]
  },
  {
   "cell_type": "markdown",
   "id": "673919b2",
   "metadata": {},
   "source": [
    "#### 20. Given two NumPy arrays:\n",
    "arr1 = np.array([1, 2, 3, 4]) arr2 = np.array([5, 6, 7, 8])\n",
    "Compute the element-wise product of the two arrays.\n"
   ]
  },
  {
   "cell_type": "code",
   "execution_count": 22,
   "id": "e089e997",
   "metadata": {},
   "outputs": [
    {
     "data": {
      "text/plain": [
       "array([ 5, 12, 21, 32])"
      ]
     },
     "execution_count": 22,
     "metadata": {},
     "output_type": "execute_result"
    }
   ],
   "source": [
    "arr1 = np.array([1, 2, 3, 4]) \n",
    "arr2 = np.array([5, 6, 7, 8]) \n",
    "\n",
    "np.multiply(arr1,arr2)"
   ]
  }
 ],
 "metadata": {
  "kernelspec": {
   "display_name": "Python 3 (ipykernel)",
   "language": "python",
   "name": "python3"
  },
  "language_info": {
   "codemirror_mode": {
    "name": "ipython",
    "version": 3
   },
   "file_extension": ".py",
   "mimetype": "text/x-python",
   "name": "python",
   "nbconvert_exporter": "python",
   "pygments_lexer": "ipython3",
   "version": "3.9.12"
  }
 },
 "nbformat": 4,
 "nbformat_minor": 5
}
