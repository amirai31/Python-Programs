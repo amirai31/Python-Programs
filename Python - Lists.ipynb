{
 "cells": [
  {
   "cell_type": "markdown",
   "id": "082601ce",
   "metadata": {},
   "source": [
    "### Lists in Python"
   ]
  },
  {
   "cell_type": "markdown",
   "id": "84397072",
   "metadata": {},
   "source": [
    "#### 1. Write a Python program to remove duplicates from a list"
   ]
  },
  {
   "cell_type": "code",
   "execution_count": 1,
   "id": "bb84eddb",
   "metadata": {},
   "outputs": [
    {
     "name": "stdout",
     "output_type": "stream",
     "text": [
      "[10, 20, 30, 50, 60, 40, 80]\n"
     ]
    }
   ],
   "source": [
    "a = [10,20,30,20,10,50,60,40,80,50,40]\n",
    "\n",
    "b = []\n",
    "\n",
    "for item in a:\n",
    "    if item not in b:\n",
    "        b.append(item)\n",
    "        \n",
    "print(b)"
   ]
  },
  {
   "cell_type": "markdown",
   "id": "fbab0a90",
   "metadata": {},
   "source": [
    "#### 2. Write a Python program to sum all the items in the list"
   ]
  },
  {
   "cell_type": "code",
   "execution_count": 2,
   "id": "9cdb92f6",
   "metadata": {},
   "outputs": [
    {
     "name": "stdout",
     "output_type": "stream",
     "text": [
      "Sum is -5\n"
     ]
    }
   ],
   "source": [
    "list = [1,2,-8]\n",
    "\n",
    "sum = 0\n",
    "\n",
    "for item in list:\n",
    "    sum += item\n",
    "\n",
    "print(\"Sum is\", sum)\n",
    "    "
   ]
  },
  {
   "cell_type": "markdown",
   "id": "541ff2e9",
   "metadata": {},
   "source": [
    "#### 3. Write a Python program to count the number of strings from a given list of strings with length 2 or more and the first and last characters are the same."
   ]
  },
  {
   "cell_type": "code",
   "execution_count": 3,
   "id": "af7d1a2d",
   "metadata": {},
   "outputs": [
    {
     "name": "stdout",
     "output_type": "stream",
     "text": [
      "2\n"
     ]
    }
   ],
   "source": [
    "list = ['abc', 'xyz', 'aba', '1221']\n",
    "count = 0\n",
    "\n",
    "for item in list:\n",
    "    if (len(item) >= 2) and item[0] == item[-1]:\n",
    "        count += 1\n",
    "\n",
    "print(count)"
   ]
  },
  {
   "cell_type": "markdown",
   "id": "5ef3a6c0",
   "metadata": {},
   "source": [
    "#### 4. Write a Python program to print a specified list after removing the 0th, 4th and 5th elements."
   ]
  },
  {
   "cell_type": "code",
   "execution_count": 4,
   "id": "395dfb18",
   "metadata": {},
   "outputs": [
    {
     "name": "stdout",
     "output_type": "stream",
     "text": [
      "['Green', 'White', 'Black']\n"
     ]
    }
   ],
   "source": [
    "list = ['Red', 'Green', 'White', 'Black', 'Pink', 'Yellow']\n",
    "list1 = []\n",
    "\n",
    "for item in list:\n",
    "    if list.index(item) not in (0,4,5):\n",
    "        list1.append(item)\n",
    "\n",
    "print(list1)    "
   ]
  },
  {
   "cell_type": "markdown",
   "id": "64cd268b",
   "metadata": {},
   "source": [
    "#### 5. Write a Python program to print the numbers of a specified list after removing even numbers from it."
   ]
  },
  {
   "cell_type": "code",
   "execution_count": 5,
   "id": "f0176bda",
   "metadata": {},
   "outputs": [
    {
     "name": "stdout",
     "output_type": "stream",
     "text": [
      "[7, 25, 27]\n"
     ]
    }
   ],
   "source": [
    "list = [7,8, 120, 25, 44, 20, 27]\n",
    "list1 = []\n",
    "\n",
    "for item in list:\n",
    "    if item %2 != 0:\n",
    "        list1.append(item)\n",
    "\n",
    "print(list1)"
   ]
  },
  {
   "cell_type": "markdown",
   "id": "0ba072cb",
   "metadata": {},
   "source": [
    "#### 6. Write a Python program to get unique values from a list."
   ]
  },
  {
   "cell_type": "code",
   "execution_count": 6,
   "id": "7b5b7676",
   "metadata": {},
   "outputs": [
    {
     "name": "stdout",
     "output_type": "stream",
     "text": [
      "[10, 20, 30, 40, 50, 60]\n"
     ]
    }
   ],
   "source": [
    "list = [10, 20, 30, 40, 20, 50, 60, 40]\n",
    "list1 = []\n",
    "\n",
    "for item in list:\n",
    "    if item not in list1:\n",
    "        list1.append(item)\n",
    "\n",
    "print(list1)"
   ]
  },
  {
   "cell_type": "markdown",
   "id": "63d901f8",
   "metadata": {},
   "source": [
    "#### 7. Write a Python program to convert a list of characters into a string."
   ]
  },
  {
   "cell_type": "code",
   "execution_count": 7,
   "id": "eb289f15",
   "metadata": {},
   "outputs": [
    {
     "name": "stdout",
     "output_type": "stream",
     "text": [
      "abcd\n"
     ]
    }
   ],
   "source": [
    "list = ['a', 'b', 'c', 'd']\n",
    "\n",
    "string = \"\"\n",
    "\n",
    "for item in list:\n",
    "    string += item\n",
    "\n",
    "print(string)"
   ]
  },
  {
   "cell_type": "markdown",
   "id": "6e9f55e2",
   "metadata": {},
   "source": [
    "#### 8. Write a Python program to calculate the difference between the two lists."
   ]
  },
  {
   "cell_type": "code",
   "execution_count": 8,
   "id": "b6468c1e",
   "metadata": {},
   "outputs": [
    {
     "name": "stdout",
     "output_type": "stream",
     "text": [
      "[3, 5, 9, 2, 4, 6, 8]\n"
     ]
    }
   ],
   "source": [
    "list1 = [1, 3, 5, 7, 9]\n",
    "list2 = [1, 2, 4, 6, 7, 8]\n",
    "list3 = []\n",
    "\n",
    "for item in list1+list2:\n",
    "    if item not in list1 or item not in list2:\n",
    "        list3.append(item)\n",
    "\n",
    "print(list3)"
   ]
  },
  {
   "cell_type": "markdown",
   "id": "c933c4fb",
   "metadata": {},
   "source": [
    "#### 9. Write a program to get the frequency of elements in a list."
   ]
  },
  {
   "cell_type": "code",
   "execution_count": 9,
   "id": "5db777b1",
   "metadata": {},
   "outputs": [
    {
     "name": "stdout",
     "output_type": "stream",
     "text": [
      "{1: 3, 2: 3, 3: 3, 4: 2, 5: 1}\n"
     ]
    }
   ],
   "source": [
    "list = [1, 2, 3, 2, 4, 1, 3, 5, 2, 3, 4, 1]\n",
    "new = {}\n",
    "\n",
    "for item in list:\n",
    "    if item in new:\n",
    "        new[item] += 1\n",
    "    else:\n",
    "        new[item] = 1\n",
    "\n",
    "print(new)"
   ]
  },
  {
   "cell_type": "markdown",
   "id": "f9c79053",
   "metadata": {},
   "source": [
    "#### 10. Write a Python program to find common items in two lists."
   ]
  },
  {
   "cell_type": "code",
   "execution_count": 10,
   "id": "f97d82f2",
   "metadata": {},
   "outputs": [
    {
     "name": "stdout",
     "output_type": "stream",
     "text": [
      "{'White', 'Green'}\n"
     ]
    }
   ],
   "source": [
    "color1 = [\"Red\", \"Green\", \"Orange\", \"White\"]\n",
    "color2 = [\"Black\", \"Green\", \"White\", \"Pink\"]\n",
    "\n",
    "print(set(color1).intersection(set(color2)))"
   ]
  },
  {
   "cell_type": "markdown",
   "id": "51705694",
   "metadata": {},
   "source": [
    "#### 11. Write a Python program to create a list by concatenating a given list with a range from 1 to n."
   ]
  },
  {
   "cell_type": "code",
   "execution_count": 11,
   "id": "c7ca5e1f",
   "metadata": {},
   "outputs": [
    {
     "name": "stdout",
     "output_type": "stream",
     "text": [
      "['p1', 'q1', 'p2', 'q2', 'p3', 'q3', 'p4', 'q4', 'p5', 'q5']\n"
     ]
    }
   ],
   "source": [
    "list = ['p', 'q']\n",
    "n = 5\n",
    "new = []\n",
    "\n",
    "for i in range(1,n+1):\n",
    "    for item in list:\n",
    "        new.append(item+str(i))\n",
    "\n",
    "print(new)"
   ]
  },
  {
   "cell_type": "markdown",
   "id": "c40e2412",
   "metadata": {},
   "source": [
    "#### 12. Write a Python program to convert a list of multiple integers into a single integer."
   ]
  },
  {
   "cell_type": "code",
   "execution_count": 12,
   "id": "259e9d30",
   "metadata": {},
   "outputs": [
    {
     "name": "stdout",
     "output_type": "stream",
     "text": [
      "113350\n"
     ]
    }
   ],
   "source": [
    "list = [11, 33, 50]\n",
    "string = \"\"\n",
    "\n",
    "for item in list:\n",
    "    string += str(item)\n",
    "    \n",
    "print(int(string))"
   ]
  },
  {
   "cell_type": "markdown",
   "id": "431178f5",
   "metadata": {},
   "source": [
    "#### 13. Write a Python program to split a list into different variables."
   ]
  },
  {
   "cell_type": "code",
   "execution_count": 13,
   "id": "6ff809a0",
   "metadata": {},
   "outputs": [
    {
     "name": "stdout",
     "output_type": "stream",
     "text": [
      "Var1 = ('Black', '#000000', 'rgb(0, 0, 0)')\n",
      "Var2 = ('Red', '#FF0000', 'rgb(255,0, 0)')\n",
      "Var3 = ('Yellow', '#FFFF00', 'rgb(255, 255, 0)')\n"
     ]
    }
   ],
   "source": [
    "color = [(\"Black\", \"#000000\", \"rgb(0, 0, 0)\"), (\"Red\", \"#FF0000\", \"rgb(255,0, 0)\"), (\"Yellow\", \"#FFFF00\", \"rgb(255, 255, 0)\")]\n",
    "\n",
    "Var1, Var2, Var3 = color\n",
    "\n",
    "print(\"Var1 =\", Var1)\n",
    "print(\"Var2 =\", Var2)\n",
    "print(\"Var3 =\", Var3)"
   ]
  },
  {
   "cell_type": "markdown",
   "id": "bdaf3214",
   "metadata": {},
   "source": [
    "#### 14. Write a Python program to split a list every Nth element."
   ]
  },
  {
   "cell_type": "code",
   "execution_count": 14,
   "id": "2dda7a81",
   "metadata": {},
   "outputs": [
    {
     "name": "stdout",
     "output_type": "stream",
     "text": [
      "[['a', 'd', 'g', 'j', 'm'], ['b', 'e', 'h', 'k', 'n'], ['c', 'f', 'i', 'l']]\n"
     ]
    }
   ],
   "source": [
    "list = ['a', 'b', 'c', 'd', 'e', 'f', 'g', 'h', 'i', 'j', 'k', 'l', 'm', 'n']\n",
    "N = 3\n",
    "new = []\n",
    "\n",
    "for i in range(N):\n",
    "    list1 = list[i::N]\n",
    "    \n",
    "    new.append(list1)\n",
    "\n",
    "print(new)"
   ]
  }
 ],
 "metadata": {
  "kernelspec": {
   "display_name": "Python 3 (ipykernel)",
   "language": "python",
   "name": "python3"
  },
  "language_info": {
   "codemirror_mode": {
    "name": "ipython",
    "version": 3
   },
   "file_extension": ".py",
   "mimetype": "text/x-python",
   "name": "python",
   "nbconvert_exporter": "python",
   "pygments_lexer": "ipython3",
   "version": "3.9.12"
  }
 },
 "nbformat": 4,
 "nbformat_minor": 5
}
