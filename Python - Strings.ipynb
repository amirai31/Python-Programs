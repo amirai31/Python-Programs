{
 "cells": [
  {
   "cell_type": "markdown",
   "id": "5b02ad1a",
   "metadata": {},
   "source": [
    "### STRING"
   ]
  },
  {
   "cell_type": "markdown",
   "id": "8c9596f6",
   "metadata": {},
   "source": [
    "#### 1. Write a Python program to count the number of characters (character frequency) in a string."
   ]
  },
  {
   "cell_type": "code",
   "execution_count": 1,
   "id": "d6e40a2f",
   "metadata": {},
   "outputs": [
    {
     "name": "stdout",
     "output_type": "stream",
     "text": [
      "{'g': 2, 'o': 3, 'l': 1, 'e': 1, '.': 1, 'c': 1, 'm': 1}\n"
     ]
    }
   ],
   "source": [
    "input = \"google.com\"\n",
    "dict = {}\n",
    "\n",
    "for item in input:\n",
    "    if item in dict:\n",
    "        dict[item] += 1\n",
    "    else:\n",
    "        dict[item] = 1\n",
    "\n",
    "print(dict)"
   ]
  },
  {
   "cell_type": "markdown",
   "id": "b15ff61b",
   "metadata": {},
   "source": [
    "#### 2. Write a Python program to get a string made of the first 2 and last 2 characters of a given string. If the string length is less than 2, return the empty string instead."
   ]
  },
  {
   "cell_type": "code",
   "execution_count": 2,
   "id": "97ebd8c5",
   "metadata": {},
   "outputs": [
    {
     "name": "stdout",
     "output_type": "stream",
     "text": [
      "Combined string is w3ce\n"
     ]
    }
   ],
   "source": [
    "string = 'w3resource'\n",
    "\n",
    "if len(string) < 2:\n",
    "    print(\" \")\n",
    "else:\n",
    "    print(\"Combined string is\",string[:2] + string[-2:])"
   ]
  },
  {
   "cell_type": "markdown",
   "id": "6ae5238c",
   "metadata": {},
   "source": [
    "#### 3. Write a Python program to remove the 5th index character from a nonempty string."
   ]
  },
  {
   "cell_type": "code",
   "execution_count": 3,
   "id": "e900a6ea",
   "metadata": {},
   "outputs": [
    {
     "name": "stdout",
     "output_type": "stream",
     "text": [
      "Pytho\n"
     ]
    }
   ],
   "source": [
    "string = 'Python'\n",
    "\n",
    "part1 = string[:5]\n",
    "part2 = string[6:]\n",
    "print(part1 + part2)"
   ]
  },
  {
   "cell_type": "markdown",
   "id": "6cd26d5b",
   "metadata": {},
   "source": [
    "#### 4. Write a Python program to count the occurrences of each word in a given sentence."
   ]
  },
  {
   "cell_type": "code",
   "execution_count": 4,
   "id": "932b7987",
   "metadata": {},
   "outputs": [
    {
     "name": "stdout",
     "output_type": "stream",
     "text": [
      "{'the': 2, 'quick': 1, 'brown': 1, 'fox': 1, 'jumps': 1, 'over': 1, 'lazy': 1, 'dog.': 1}\n"
     ]
    }
   ],
   "source": [
    "string = 'the quick brown fox jumps over the lazy dog.'\n",
    "list = string.split()\n",
    "dic = {}\n",
    "\n",
    "for item in list:\n",
    "    if item not in dic.keys():\n",
    "        dic[item] = 1\n",
    "    else:\n",
    "        dic[item] += 1\n",
    "        \n",
    "print(dic)    "
   ]
  },
  {
   "cell_type": "markdown",
   "id": "83bb0466",
   "metadata": {},
   "source": [
    "#### 5. Write a Python function to insert a string in the middle of a string."
   ]
  },
  {
   "cell_type": "code",
   "execution_count": 5,
   "id": "55202d6e",
   "metadata": {},
   "outputs": [
    {
     "name": "stdout",
     "output_type": "stream",
     "text": [
      "[[Python]]\n"
     ]
    }
   ],
   "source": [
    "string1 = '[[]]'\n",
    "string2 = 'Python'\n",
    "\n",
    "print(string1[:2] + string2 + string1[2:])"
   ]
  },
  {
   "cell_type": "markdown",
   "id": "b7dd0e16",
   "metadata": {},
   "source": [
    "#### 6. Write a Python function to reverse a string if its length is a multiple of 4."
   ]
  },
  {
   "cell_type": "code",
   "execution_count": 6,
   "id": "0d7fc2cf",
   "metadata": {},
   "outputs": [
    {
     "name": "stdout",
     "output_type": "stream",
     "text": [
      "Reversed string of pyth is htyp\n"
     ]
    }
   ],
   "source": [
    "string = \"pyth\"\n",
    "\n",
    "if len(string)%4 == 0:\n",
    "    print(\"Reversed string of\",string,\"is\",string[::-1])"
   ]
  },
  {
   "cell_type": "markdown",
   "id": "44ff3fa1",
   "metadata": {},
   "source": [
    "#### 7. Write a Python program to check whether a string starts with specified characters (grow)"
   ]
  },
  {
   "cell_type": "code",
   "execution_count": 7,
   "id": "548c7429",
   "metadata": {},
   "outputs": [
    {
     "name": "stdout",
     "output_type": "stream",
     "text": [
      "True\n"
     ]
    }
   ],
   "source": [
    "string = \"growdataskills\"\n",
    "val = \"grow\"\n",
    "\n",
    "print(string.startswith(val)) "
   ]
  },
  {
   "cell_type": "markdown",
   "id": "293c06c3",
   "metadata": {},
   "source": [
    "#### 8. Write a Python program to reverse words in a string."
   ]
  },
  {
   "cell_type": "code",
   "execution_count": 8,
   "id": "ca7aac49",
   "metadata": {},
   "outputs": [
    {
     "name": "stdout",
     "output_type": "stream",
     "text": [
      "Original string: The quick brown fox jumps over the lazy dog.\n",
      "New string: dog. lazy the over jumps fox brown quick The \n"
     ]
    }
   ],
   "source": [
    "string = \"The quick brown fox jumps over the lazy dog.\"\n",
    "new = \"\"\n",
    "\n",
    "list = string.split()\n",
    "\n",
    "for item in list:\n",
    "    new = item +\" \"+ new\n",
    "\n",
    "print(\"Original string:\",string)\n",
    "print(\"New string:\",new)"
   ]
  },
  {
   "cell_type": "markdown",
   "id": "1560f4df",
   "metadata": {},
   "source": [
    "#### 9. Write a Python program to check whether a string contains all letters of the alphabet."
   ]
  },
  {
   "cell_type": "code",
   "execution_count": 9,
   "id": "944a43ba",
   "metadata": {},
   "outputs": [
    {
     "name": "stdout",
     "output_type": "stream",
     "text": [
      "{'d', 'c', 'w', 'b', 's', 'h', 'v', 'j', 'f', 'g', 'o', 't', 'n', 'l', 'm', 'r', 'y', 'z', 'u', 'a', 'q', 'k', 'p', 'i', 'x', 'e'}\n",
      "26\n",
      "{'c', 'w', 'b', 's', 'h', ' ', 'v', 'j', 'f', 'o', 't', 'n', 'l', 'm', 'r', 'y', 'z', 'u', 'a', 'q', 'k', 'p', 'i', 'x', 'e'}\n",
      "25\n",
      "False\n"
     ]
    }
   ],
   "source": [
    "import string\n",
    "\n",
    "alphabet = set(string.ascii_lowercase)\n",
    "print(alphabet)\n",
    "print(len(alphabet))\n",
    "\n",
    "string = 'The quick brown fox jumps over the lazy cat'\n",
    "\n",
    "string_set = set(string.lower())\n",
    "print(string_set)\n",
    "print(len(string_set))\n",
    "\n",
    "print(set(string.lower()) >= alphabet)"
   ]
  },
  {
   "cell_type": "markdown",
   "id": "7b9eaf94",
   "metadata": {},
   "source": [
    "#### 10. Write a Python program to count and display vowels in text."
   ]
  },
  {
   "cell_type": "code",
   "execution_count": 10,
   "id": "3409ea05",
   "metadata": {},
   "outputs": [
    {
     "name": "stdout",
     "output_type": "stream",
     "text": [
      "Number of vowels in resource is 4\n",
      "Vowels are: ['e', 'o', 'u', 'e']\n"
     ]
    }
   ],
   "source": [
    "string = \"resource\"\n",
    "\n",
    "vowels = ['a','e','i','o','u']\n",
    "list = []\n",
    "count = 0\n",
    "\n",
    "for item in string:\n",
    "    if item in vowels:\n",
    "        count += 1\n",
    "        list.append(item)\n",
    "        \n",
    "print(\"Number of vowels in\",string,\"is\",count)\n",
    "print(\"Vowels are:\",list)\n",
    "  "
   ]
  }
 ],
 "metadata": {
  "kernelspec": {
   "display_name": "Python 3 (ipykernel)",
   "language": "python",
   "name": "python3"
  },
  "language_info": {
   "codemirror_mode": {
    "name": "ipython",
    "version": 3
   },
   "file_extension": ".py",
   "mimetype": "text/x-python",
   "name": "python",
   "nbconvert_exporter": "python",
   "pygments_lexer": "ipython3",
   "version": "3.9.12"
  }
 },
 "nbformat": 4,
 "nbformat_minor": 5
}
