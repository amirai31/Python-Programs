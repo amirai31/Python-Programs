{
 "cells": [
  {
   "cell_type": "markdown",
   "id": "49c1dca6",
   "metadata": {},
   "source": [
    "### TUPLES"
   ]
  },
  {
   "cell_type": "markdown",
   "id": "4efe90ea",
   "metadata": {},
   "source": [
    "#### 1. Write a Python program to unpack a tuple into several variables."
   ]
  },
  {
   "cell_type": "code",
   "execution_count": 1,
   "id": "a16ff8cb",
   "metadata": {},
   "outputs": [
    {
     "name": "stdout",
     "output_type": "stream",
     "text": [
      "A1= 4\n",
      "A2= 8\n",
      "A3= 3\n"
     ]
    }
   ],
   "source": [
    "tuple1 = (4,8,3)\n",
    "\n",
    "A1,A2,A3 = tuple1\n",
    "\n",
    "print(\"A1=\", A1)\n",
    "print(\"A2=\", A2)\n",
    "print(\"A3=\", A3)"
   ]
  },
  {
   "cell_type": "markdown",
   "id": "ba5340f5",
   "metadata": {},
   "source": [
    "#### 2. Write a Python program to check whether an element (5) exists within a tuple."
   ]
  },
  {
   "cell_type": "code",
   "execution_count": 2,
   "id": "ff11850b",
   "metadata": {},
   "outputs": [
    {
     "name": "stdout",
     "output_type": "stream",
     "text": [
      "False\n"
     ]
    }
   ],
   "source": [
    "tuple2 = (\"w\", 3, \"r\", \"e\", \"s\", \"o\", \"u\", \"r\", \"c\", \"e\")\n",
    "\n",
    "print((5) in tuple2)"
   ]
  },
  {
   "cell_type": "markdown",
   "id": "41f1a9ee",
   "metadata": {},
   "source": [
    "#### 3. Write a Python program to reverse a tuple."
   ]
  },
  {
   "cell_type": "code",
   "execution_count": 3,
   "id": "2442f403",
   "metadata": {},
   "outputs": [
    {
     "name": "stdout",
     "output_type": "stream",
     "text": [
      "(20, 15, 10, 5)\n"
     ]
    }
   ],
   "source": [
    "tuple3 = (5,10,15,20)\n",
    "\n",
    "new = tuple3[::-1]\n",
    "print(new)"
   ]
  },
  {
   "cell_type": "markdown",
   "id": "59548092",
   "metadata": {},
   "source": [
    "#### 4. Write a Python program to print a tuple with string formatting."
   ]
  },
  {
   "cell_type": "code",
   "execution_count": 4,
   "id": "b61fec4a",
   "metadata": {},
   "outputs": [
    {
     "name": "stdout",
     "output_type": "stream",
     "text": [
      "This is a tuple (100, 200, 300)\n"
     ]
    }
   ],
   "source": [
    "tuple4 = (100, 200, 300)\n",
    "\n",
    "print(\"This is a tuple\",tuple4)"
   ]
  },
  {
   "cell_type": "markdown",
   "id": "29bbafec",
   "metadata": {},
   "source": [
    "#### 5. Write a Python program to remove an empty tuple(s) from a list of tuples."
   ]
  },
  {
   "cell_type": "code",
   "execution_count": 5,
   "id": "71f11d8c",
   "metadata": {},
   "outputs": [
    {
     "name": "stdout",
     "output_type": "stream",
     "text": [
      "[('',), ('a', 'b'), ('a', 'b', 'c'), 'd']\n"
     ]
    }
   ],
   "source": [
    "list1 = [(), (), ('',), ('a', 'b'), ('a', 'b', 'c'), ('d')]\n",
    "new = []\n",
    "\n",
    "for item in list1:\n",
    "    if len(item) != 0:\n",
    "        new.append(item)\n",
    "        \n",
    "print(new)        "
   ]
  },
  {
   "cell_type": "markdown",
   "id": "f0322146",
   "metadata": {},
   "source": [
    "#### 6. Write a Python program to convert a given string to a tuple."
   ]
  },
  {
   "cell_type": "code",
   "execution_count": 6,
   "id": "1f4f39f3",
   "metadata": {},
   "outputs": [
    {
     "name": "stdout",
     "output_type": "stream",
     "text": [
      "('S', 'h', 'a', 'i', 'l', 'j', 'a')\n"
     ]
    }
   ],
   "source": [
    "string = \"Shailja\"\n",
    "\n",
    "tuple6 = tuple(string)\n",
    "print(tuple6)"
   ]
  },
  {
   "cell_type": "markdown",
   "id": "19df6760",
   "metadata": {},
   "source": [
    "#### 7. Write a Python program to compute the element-wise sum of given tuples."
   ]
  },
  {
   "cell_type": "code",
   "execution_count": 7,
   "id": "c20c6253",
   "metadata": {},
   "outputs": [
    {
     "name": "stdout",
     "output_type": "stream",
     "text": [
      "(6, 9, 8, 6)\n"
     ]
    }
   ],
   "source": [
    "tuple1 = (1, 2, 3, 4)\n",
    "tuple2 = (3, 5, 2, 1)\n",
    "tuple3 = (2, 2, 3, 1)\n",
    "\n",
    "result = tuple(map(sum, zip(tuple1, tuple2, tuple3)))\n",
    "print(result)"
   ]
  },
  {
   "cell_type": "markdown",
   "id": "76ccb0e8",
   "metadata": {},
   "source": [
    "#### 8. Write a Python program to convert a given list of tuples to a list of lists."
   ]
  },
  {
   "cell_type": "code",
   "execution_count": 8,
   "id": "cba5e681",
   "metadata": {},
   "outputs": [
    {
     "name": "stdout",
     "output_type": "stream",
     "text": [
      "[[1, 2], [2, 3], [3, 4]]\n"
     ]
    }
   ],
   "source": [
    "input = [(1, 2), (2, 3), (3, 4)]\n",
    "new = []\n",
    "\n",
    "for item in input:\n",
    "    res = list(item)\n",
    "    new.append(res)\n",
    "\n",
    "print(new)"
   ]
  }
 ],
 "metadata": {
  "kernelspec": {
   "display_name": "Python 3 (ipykernel)",
   "language": "python",
   "name": "python3"
  },
  "language_info": {
   "codemirror_mode": {
    "name": "ipython",
    "version": 3
   },
   "file_extension": ".py",
   "mimetype": "text/x-python",
   "name": "python",
   "nbconvert_exporter": "python",
   "pygments_lexer": "ipython3",
   "version": "3.9.12"
  }
 },
 "nbformat": 4,
 "nbformat_minor": 5
}
