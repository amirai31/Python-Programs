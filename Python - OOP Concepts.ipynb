{
 "cells": [
  {
   "cell_type": "markdown",
   "id": "f168e5f6",
   "metadata": {},
   "source": [
    "### Python Object-Oriented Programming\n"
   ]
  },
  {
   "cell_type": "markdown",
   "id": "9752a96a",
   "metadata": {},
   "source": [
    "#### Q1. Write a Python program to create a class representing a Circle. Include methods to calculate its area and perimeter."
   ]
  },
  {
   "cell_type": "code",
   "execution_count": 1,
   "id": "c4ac3e23",
   "metadata": {},
   "outputs": [
    {
     "name": "stdout",
     "output_type": "stream",
     "text": [
      "Enter the radius:5\n",
      "Area of the circle is 78.53981633974483\n",
      "Perimeter of the circle is 31.41592653589793\n"
     ]
    }
   ],
   "source": [
    "import math\n",
    "\n",
    "class Circle:\n",
    "    def __init__(self,radius):\n",
    "        self.radius = radius\n",
    "    \n",
    "    def area(self):\n",
    "        return math.pi*self.radius*self.radius\n",
    "    \n",
    "    def peri(self):\n",
    "        return 2*math.pi*self.radius\n",
    "\n",
    "rad = int(input(\"Enter the radius:\"))\n",
    "\n",
    "c = Circle(rad)\n",
    "\n",
    "print(\"Area of the circle is\",c.area())\n",
    "print(\"Perimeter of the circle is\",c.peri())\n"
   ]
  },
  {
   "cell_type": "markdown",
   "id": "68c534f9",
   "metadata": {},
   "source": [
    "#### Q2. Write a Python program to create a person class. Include attributes like name, country and date of birth. Implement a method to determine the person's age."
   ]
  },
  {
   "cell_type": "code",
   "execution_count": 2,
   "id": "33b178e1",
   "metadata": {},
   "outputs": [
    {
     "name": "stdout",
     "output_type": "stream",
     "text": [
      "Person 1:\n",
      "Name: Ferdi Odilia\n",
      "Country: France\n",
      "Date of Birth: 1962-07-12\n",
      "Age: 61\n",
      "\n",
      "Person 2:\n",
      "Name: Shweta Maddox\n",
      "Country: Canada\n",
      "Date of Birth: 1982-10-20\n",
      "Age: 41\n",
      "\n",
      "Person 3:\n",
      "Name: Elizaveta Tilman\n",
      "Country: USA\n",
      "Date of Birth: 2000-01-01\n",
      "Age: 23\n"
     ]
    }
   ],
   "source": [
    "from datetime import date\n",
    "\n",
    "class Person:\n",
    "    def __init__(self,name,country,dob):\n",
    "        self.name = name\n",
    "        self.country = country\n",
    "        self.dob = dob\n",
    "    \n",
    "    def displays(self):\n",
    "        print(\"Name:\",self.name)\n",
    "        print(\"Country:\",self.country)\n",
    "        print(\"Date of Birth:\",self.dob)\n",
    "    \n",
    "    def cal_age(self):\n",
    "        today = date.today()\n",
    "        self.age = today.year - self.dob.year - ((today.month, today.day) < (self.dob.month, self.dob.day))\n",
    "        print(\"Age:\",self.age)\n",
    "        \n",
    "P1 = Person(\"Ferdi Odilia\", \"France\", date(1962,7,12))\n",
    "P2 = Person(\"Shweta Maddox\", \"Canada\", date(1982,10,20))\n",
    "P3 = Person(\"Elizaveta Tilman\", \"USA\", date(2000,1,1))\n",
    "\n",
    "print(\"Person 1:\")\n",
    "P1.displays()\n",
    "P1.cal_age()\n",
    "print()\n",
    "\n",
    "print(\"Person 2:\")\n",
    "P2.displays()\n",
    "P2.cal_age()\n",
    "print()\n",
    "\n",
    "print(\"Person 3:\")\n",
    "P3.displays()\n",
    "P3.cal_age()\n"
   ]
  },
  {
   "cell_type": "markdown",
   "id": "a9165137",
   "metadata": {},
   "source": [
    "#### Q3. Write a Python program to create a calculator class. Include methods for basic arithmetic operations."
   ]
  },
  {
   "cell_type": "code",
   "execution_count": 3,
   "id": "032a9eb2",
   "metadata": {},
   "outputs": [
    {
     "name": "stdout",
     "output_type": "stream",
     "text": [
      "Enter the numbers:10 20\n",
      "10 + 20 = 30\n",
      "10 - 20 = -10\n",
      "10 * 20 = 200\n",
      "10 / 20 = 0.5\n"
     ]
    }
   ],
   "source": [
    "class Calculator:\n",
    "    def __init__(self,num1,num2):\n",
    "        self.num1 = num1\n",
    "        self.num2 = num2\n",
    "    \n",
    "    def adds(self):\n",
    "        print(self.num1,\"+\",self.num2,\"=\", self.num1+self.num2)\n",
    "    \n",
    "    def sub(self):\n",
    "        print(self.num1,\"-\",self.num2,\"=\", self.num1-self.num2)\n",
    "    \n",
    "    def mul(self):\n",
    "        print(self.num1,\"*\",self.num2,\"=\", self.num1*self.num2)\n",
    "    \n",
    "    def div(self):\n",
    "        print(self.num1,\"/\",self.num2,\"=\", self.num1/self.num2)\n",
    "\n",
    "res = input(\"Enter the numbers:\")\n",
    "num1,num2 = res.split(\" \")\n",
    "\n",
    "numbers = Calculator(int(num1), int(num2))\n",
    "\n",
    "numbers.adds()\n",
    "numbers.sub()\n",
    "numbers.mul()\n",
    "numbers.div()\n"
   ]
  },
  {
   "cell_type": "markdown",
   "id": "773917b6",
   "metadata": {},
   "source": [
    "#### Q4. Write a Python program to create a class that represents a shape. Include methods to calculate its area and perimeter. Implement subclasses for different shapes like circle, triangle, and square."
   ]
  },
  {
   "cell_type": "code",
   "execution_count": 4,
   "id": "08322e3e",
   "metadata": {},
   "outputs": [
    {
     "name": "stdout",
     "output_type": "stream",
     "text": [
      "Circle\n",
      "Area: 78.53981633974483\n",
      "Perimeter: 31.41592653589793\n",
      "\n",
      "Triangle\n",
      "Area: 6.0\n",
      "Perimeter: 12\n",
      "\n",
      "Square\n",
      "Area: 36\n",
      "Perimeter: 24\n"
     ]
    }
   ],
   "source": [
    "import math \n",
    " \n",
    "class Shape:\n",
    "    def area(self):\n",
    "        pass\n",
    "    def peri(self):\n",
    "        pass\n",
    "    \n",
    "class Circle(Shape):\n",
    "    def __init__(self, r):\n",
    "        self.radius = r\n",
    "    def area(self):\n",
    "        print(\"Area:\", math.pi * (self.radius * self.radius))\n",
    "    def peri(self):\n",
    "        print(\"Perimeter:\", 2 * math.pi * self.radius)\n",
    "        \n",
    "class Triangle(Shape):\n",
    "    def __init__(self, s1, s2, s3):\n",
    "        self.side1 = s1\n",
    "        self.side2 = s2\n",
    "        self.side3 = s3\n",
    "    def area(self):\n",
    "        print(\"Area:\", 0.5 * self.side1 * self.side2)\n",
    "    def peri(self):\n",
    "        print(\"Perimeter:\", self.side1 + self.side2 + self.side3)\n",
    "\n",
    "class Square(Shape):\n",
    "    def __init__(self, s1):\n",
    "        self.side1 = s1\n",
    "    def area(self):\n",
    "        print(\"Area:\", self.side1 * self.side1)\n",
    "    def peri(self):\n",
    "        print(\"Perimeter:\", 4 * self.side1)\n",
    "\n",
    "c = Circle(5)\n",
    "t = Triangle(3, 4, 5)\n",
    "s = Square(6)\n",
    "\n",
    "print(\"Circle\")\n",
    "c.area()\n",
    "c.peri()\n",
    "print()\n",
    "\n",
    "print(\"Triangle\")\n",
    "t.area()\n",
    "t.peri()\n",
    "print()\n",
    "\n",
    "print(\"Square\")\n",
    "s.area()\n",
    "s.peri()"
   ]
  }
 ],
 "metadata": {
  "kernelspec": {
   "display_name": "Python 3 (ipykernel)",
   "language": "python",
   "name": "python3"
  },
  "language_info": {
   "codemirror_mode": {
    "name": "ipython",
    "version": 3
   },
   "file_extension": ".py",
   "mimetype": "text/x-python",
   "name": "python",
   "nbconvert_exporter": "python",
   "pygments_lexer": "ipython3",
   "version": "3.9.12"
  }
 },
 "nbformat": 4,
 "nbformat_minor": 5
}
