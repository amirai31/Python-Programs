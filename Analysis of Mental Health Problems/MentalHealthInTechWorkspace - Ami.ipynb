{
 "cells": [
  {
   "cell_type": "markdown",
   "id": "d0114cea",
   "metadata": {},
   "source": [
    "## Introduction"
   ]
  },
  {
   "cell_type": "markdown",
   "id": "63f06ce5",
   "metadata": {},
   "source": [
    "Mental health is the ability to deal with ups and downs in our life. Your mental health always fluctuates as circumstances change as you move through different stages in your life. OSMI, an organization is working to help people to identify and overcome mental health disorders while working in a tech space. They perform surveys to examine the frequency of mental health disorders among tech workers."
   ]
  },
  {
   "cell_type": "markdown",
   "id": "b9eef40c",
   "metadata": {},
   "source": [
    "## Problem Statement"
   ]
  },
  {
   "cell_type": "markdown",
   "id": "61480fe3",
   "metadata": {},
   "source": [
    "A survey is done to find the attitudes towards mental health in the tech workplace. \n",
    "\n",
    "The description of the features collected during the survey is given below:"
   ]
  },
  {
   "cell_type": "markdown",
   "id": "99d1d744",
   "metadata": {},
   "source": [
    "\n",
    "| Id | Features | Description |\n",
    "| --- | ------- | -------- |\n",
    "|01|\tTimestamp|\tTime the survey was submitted. |\n",
    "|02|\tAge|\tThe age of the person. |\n",
    "|03|\tGender|\tThe gender of the person. |\n",
    "|04|\tCountry\t | The country name where person belongs to. |\n",
    "| 05|\tstate|\tThe state name where person belongs to. |\n",
    "| 06|\tself_employed|\tIs the person self employed or not. |\n",
    " | 07|\tfamily_history|\tDoes the person's family history had mental illness or not? |\n",
    "|  08|\ttreatment|\tHave you sought treatment for a mental health condition? |\n",
    "|  09|\twork_intefere|\tIf you have a mental health condition, do you feel that it interferes with your work? |\n",
    " | 10|\tno_employees|\tHow many employees does your company or organization have? |\n",
    "|  11|\tremote_work|\tDo you work remotely (outside of an office) at least 50% of the time? |\n",
    " | 12|\ttech_company|\tIs your employer primarily a tech company/organization? |\n",
    " | 13|\tbenifits\t| Does your employer provide mental health benefits? |\n",
    " | 14|\tcare_options|\tDo you know the options for mental health care your employer provides? |\n",
    "|  15|\twellness_program|\tHas your employer ever discussed mental health as part of an employee wellness program? |\n",
    "|  16|\tseek_help|\tDoes your employer provide resources to learn more about mental health issues and how to seek help? |\n",
    " | 17|\tanonymity|\tIs your anonymity protected if you choose to take advantage of mental health or substance abuse treatment  resources? |\n",
    " | 18|\tleave|\tHow easy is it for you to take medical leave for a mental health condition? |\n",
    " | 19|\tmental_health_consequence|\tDo you think that discussing a mental health issue with your employer would have negative consequences? |\n",
    " | 20|\tphy_health_consequence|\tDo you think that discussing a physical health issue with your employer would have negative consequences? |\n",
    "|  21|\tcoworkers|\tWould you be willing to discuss a mental health issue with your coworkers? |\n",
    " | 22|\tsupervisor|\tWould you be willing to discuss a mental health issue with your direct supervisor(s)? |\n",
    "|  23|\tmental_health_interview|\tWould you bring up a mental health issue with a potential employer in an interview? |\n",
    " | 24 |\tphs_health_interivew|\tWould you bring up a physical health issue with a potential employer in an interview? |\n",
    " | 25 |\tmental_vs_physical|\tDo you feel that your employer takes mental health as seriously as physical health? |\n",
    " | 26 |\tobs_consequence|\tHave you heard of or observed negative consequences for coworkers with mental health conditions in your workplace? |\n",
    "|  27 |\tcomments|\tAny additional notes or comments. |\n"
   ]
  },
  {
   "cell_type": "markdown",
   "id": "2b94c769",
   "metadata": {},
   "source": [
    "Analysis is to be done to find the set of parameters affecting the mental health of the people.\n",
    "\n",
    "The process consists of the following steps - Data collection, Data Pre-profiling, Data cleaning, Exploratory Data Analysis, and Summarization"
   ]
  },
  {
   "cell_type": "markdown",
   "id": "de2731dd",
   "metadata": {},
   "source": [
    "### Installing Libraries"
   ]
  },
  {
   "cell_type": "code",
   "execution_count": 1,
   "id": "29ec90a3",
   "metadata": {},
   "outputs": [],
   "source": [
    "# Package that is required by pandas profiling\n",
    "!pip install -q datascience\n",
    "\n",
    "!pip install -q --upgrade pandas-profiling\n"
   ]
  },
  {
   "cell_type": "markdown",
   "id": "b9b7dfd0",
   "metadata": {},
   "source": [
    "### Importing Libraries"
   ]
  },
  {
   "cell_type": "code",
   "execution_count": 2,
   "id": "9dc32b4d",
   "metadata": {},
   "outputs": [],
   "source": [
    "import numpy as np                   # Importing numpy library\n",
    "\n",
    "import pandas as pd                  # Importing for panel data analysis\n",
    "\n",
    "import matplotlib.pyplot as plt      # Importing pyplot interface using matplotlib\n",
    "%matplotlib inline\n",
    "\n",
    "import seaborn as sns                # Importing seaborm library for interactive visualization\n",
    "\n",
    "import warnings                      # Importing warnings to disable runtime warnings\n",
    "warnings.filterwarnings(\"ignore\")\n"
   ]
  },
  {
   "cell_type": "markdown",
   "id": "25c9eb1f",
   "metadata": {},
   "source": [
    "## Data Collection "
   ]
  },
  {
   "cell_type": "code",
   "execution_count": 3,
   "id": "d77f78f7",
   "metadata": {},
   "outputs": [],
   "source": [
    "# download the dataset to pandas dataframe\n",
    "data = pd.read_csv('survey.csv')\n"
   ]
  },
  {
   "cell_type": "code",
   "execution_count": 4,
   "id": "9ccc2634",
   "metadata": {},
   "outputs": [],
   "source": [
    "# setting to display all the rows and columns\n",
    "pd.set_option(\"display.max_columns\", None)\n",
    "pd.set_option(\"display.max_colwidth\", None)\n"
   ]
  },
  {
   "cell_type": "code",
   "execution_count": 5,
   "id": "50b42d1b",
   "metadata": {},
   "outputs": [
    {
     "data": {
      "text/html": [
       "<div>\n",
       "<style scoped>\n",
       "    .dataframe tbody tr th:only-of-type {\n",
       "        vertical-align: middle;\n",
       "    }\n",
       "\n",
       "    .dataframe tbody tr th {\n",
       "        vertical-align: top;\n",
       "    }\n",
       "\n",
       "    .dataframe thead th {\n",
       "        text-align: right;\n",
       "    }\n",
       "</style>\n",
       "<table border=\"1\" class=\"dataframe\">\n",
       "  <thead>\n",
       "    <tr style=\"text-align: right;\">\n",
       "      <th></th>\n",
       "      <th>Timestamp</th>\n",
       "      <th>Age</th>\n",
       "      <th>Gender</th>\n",
       "      <th>Country</th>\n",
       "      <th>state</th>\n",
       "      <th>self_employed</th>\n",
       "      <th>family_history</th>\n",
       "      <th>treatment</th>\n",
       "      <th>work_interfere</th>\n",
       "      <th>no_employees</th>\n",
       "      <th>remote_work</th>\n",
       "      <th>tech_company</th>\n",
       "      <th>benefits</th>\n",
       "      <th>care_options</th>\n",
       "      <th>wellness_program</th>\n",
       "      <th>seek_help</th>\n",
       "      <th>anonymity</th>\n",
       "      <th>leave</th>\n",
       "      <th>mental_health_consequence</th>\n",
       "      <th>phys_health_consequence</th>\n",
       "      <th>coworkers</th>\n",
       "      <th>supervisor</th>\n",
       "      <th>mental_health_interview</th>\n",
       "      <th>phys_health_interview</th>\n",
       "      <th>mental_vs_physical</th>\n",
       "      <th>obs_consequence</th>\n",
       "      <th>comments</th>\n",
       "    </tr>\n",
       "  </thead>\n",
       "  <tbody>\n",
       "    <tr>\n",
       "      <th>0</th>\n",
       "      <td>2014-08-27 11:29:31</td>\n",
       "      <td>37</td>\n",
       "      <td>Female</td>\n",
       "      <td>United States</td>\n",
       "      <td>IL</td>\n",
       "      <td>NaN</td>\n",
       "      <td>No</td>\n",
       "      <td>Yes</td>\n",
       "      <td>Often</td>\n",
       "      <td>6-25</td>\n",
       "      <td>No</td>\n",
       "      <td>Yes</td>\n",
       "      <td>Yes</td>\n",
       "      <td>Not sure</td>\n",
       "      <td>No</td>\n",
       "      <td>Yes</td>\n",
       "      <td>Yes</td>\n",
       "      <td>Somewhat easy</td>\n",
       "      <td>No</td>\n",
       "      <td>No</td>\n",
       "      <td>Some of them</td>\n",
       "      <td>Yes</td>\n",
       "      <td>No</td>\n",
       "      <td>Maybe</td>\n",
       "      <td>Yes</td>\n",
       "      <td>No</td>\n",
       "      <td>NaN</td>\n",
       "    </tr>\n",
       "    <tr>\n",
       "      <th>1</th>\n",
       "      <td>2014-08-27 11:29:37</td>\n",
       "      <td>44</td>\n",
       "      <td>M</td>\n",
       "      <td>United States</td>\n",
       "      <td>IN</td>\n",
       "      <td>NaN</td>\n",
       "      <td>No</td>\n",
       "      <td>No</td>\n",
       "      <td>Rarely</td>\n",
       "      <td>More than 1000</td>\n",
       "      <td>No</td>\n",
       "      <td>No</td>\n",
       "      <td>Don't know</td>\n",
       "      <td>No</td>\n",
       "      <td>Don't know</td>\n",
       "      <td>Don't know</td>\n",
       "      <td>Don't know</td>\n",
       "      <td>Don't know</td>\n",
       "      <td>Maybe</td>\n",
       "      <td>No</td>\n",
       "      <td>No</td>\n",
       "      <td>No</td>\n",
       "      <td>No</td>\n",
       "      <td>No</td>\n",
       "      <td>Don't know</td>\n",
       "      <td>No</td>\n",
       "      <td>NaN</td>\n",
       "    </tr>\n",
       "    <tr>\n",
       "      <th>2</th>\n",
       "      <td>2014-08-27 11:29:44</td>\n",
       "      <td>32</td>\n",
       "      <td>Male</td>\n",
       "      <td>Canada</td>\n",
       "      <td>NaN</td>\n",
       "      <td>NaN</td>\n",
       "      <td>No</td>\n",
       "      <td>No</td>\n",
       "      <td>Rarely</td>\n",
       "      <td>6-25</td>\n",
       "      <td>No</td>\n",
       "      <td>Yes</td>\n",
       "      <td>No</td>\n",
       "      <td>No</td>\n",
       "      <td>No</td>\n",
       "      <td>No</td>\n",
       "      <td>Don't know</td>\n",
       "      <td>Somewhat difficult</td>\n",
       "      <td>No</td>\n",
       "      <td>No</td>\n",
       "      <td>Yes</td>\n",
       "      <td>Yes</td>\n",
       "      <td>Yes</td>\n",
       "      <td>Yes</td>\n",
       "      <td>No</td>\n",
       "      <td>No</td>\n",
       "      <td>NaN</td>\n",
       "    </tr>\n",
       "    <tr>\n",
       "      <th>3</th>\n",
       "      <td>2014-08-27 11:29:46</td>\n",
       "      <td>31</td>\n",
       "      <td>Male</td>\n",
       "      <td>United Kingdom</td>\n",
       "      <td>NaN</td>\n",
       "      <td>NaN</td>\n",
       "      <td>Yes</td>\n",
       "      <td>Yes</td>\n",
       "      <td>Often</td>\n",
       "      <td>26-100</td>\n",
       "      <td>No</td>\n",
       "      <td>Yes</td>\n",
       "      <td>No</td>\n",
       "      <td>Yes</td>\n",
       "      <td>No</td>\n",
       "      <td>No</td>\n",
       "      <td>No</td>\n",
       "      <td>Somewhat difficult</td>\n",
       "      <td>Yes</td>\n",
       "      <td>Yes</td>\n",
       "      <td>Some of them</td>\n",
       "      <td>No</td>\n",
       "      <td>Maybe</td>\n",
       "      <td>Maybe</td>\n",
       "      <td>No</td>\n",
       "      <td>Yes</td>\n",
       "      <td>NaN</td>\n",
       "    </tr>\n",
       "    <tr>\n",
       "      <th>4</th>\n",
       "      <td>2014-08-27 11:30:22</td>\n",
       "      <td>31</td>\n",
       "      <td>Male</td>\n",
       "      <td>United States</td>\n",
       "      <td>TX</td>\n",
       "      <td>NaN</td>\n",
       "      <td>No</td>\n",
       "      <td>No</td>\n",
       "      <td>Never</td>\n",
       "      <td>100-500</td>\n",
       "      <td>Yes</td>\n",
       "      <td>Yes</td>\n",
       "      <td>Yes</td>\n",
       "      <td>No</td>\n",
       "      <td>Don't know</td>\n",
       "      <td>Don't know</td>\n",
       "      <td>Don't know</td>\n",
       "      <td>Don't know</td>\n",
       "      <td>No</td>\n",
       "      <td>No</td>\n",
       "      <td>Some of them</td>\n",
       "      <td>Yes</td>\n",
       "      <td>Yes</td>\n",
       "      <td>Yes</td>\n",
       "      <td>Don't know</td>\n",
       "      <td>No</td>\n",
       "      <td>NaN</td>\n",
       "    </tr>\n",
       "  </tbody>\n",
       "</table>\n",
       "</div>"
      ],
      "text/plain": [
       "             Timestamp  Age  Gender         Country state self_employed  \\\n",
       "0  2014-08-27 11:29:31   37  Female   United States    IL           NaN   \n",
       "1  2014-08-27 11:29:37   44       M   United States    IN           NaN   \n",
       "2  2014-08-27 11:29:44   32    Male          Canada   NaN           NaN   \n",
       "3  2014-08-27 11:29:46   31    Male  United Kingdom   NaN           NaN   \n",
       "4  2014-08-27 11:30:22   31    Male   United States    TX           NaN   \n",
       "\n",
       "  family_history treatment work_interfere    no_employees remote_work  \\\n",
       "0             No       Yes          Often            6-25          No   \n",
       "1             No        No         Rarely  More than 1000          No   \n",
       "2             No        No         Rarely            6-25          No   \n",
       "3            Yes       Yes          Often          26-100          No   \n",
       "4             No        No          Never         100-500         Yes   \n",
       "\n",
       "  tech_company    benefits care_options wellness_program   seek_help  \\\n",
       "0          Yes         Yes     Not sure               No         Yes   \n",
       "1           No  Don't know           No       Don't know  Don't know   \n",
       "2          Yes          No           No               No          No   \n",
       "3          Yes          No          Yes               No          No   \n",
       "4          Yes         Yes           No       Don't know  Don't know   \n",
       "\n",
       "    anonymity               leave mental_health_consequence  \\\n",
       "0         Yes       Somewhat easy                        No   \n",
       "1  Don't know          Don't know                     Maybe   \n",
       "2  Don't know  Somewhat difficult                        No   \n",
       "3          No  Somewhat difficult                       Yes   \n",
       "4  Don't know          Don't know                        No   \n",
       "\n",
       "  phys_health_consequence     coworkers supervisor mental_health_interview  \\\n",
       "0                      No  Some of them        Yes                      No   \n",
       "1                      No            No         No                      No   \n",
       "2                      No           Yes        Yes                     Yes   \n",
       "3                     Yes  Some of them         No                   Maybe   \n",
       "4                      No  Some of them        Yes                     Yes   \n",
       "\n",
       "  phys_health_interview mental_vs_physical obs_consequence comments  \n",
       "0                 Maybe                Yes              No      NaN  \n",
       "1                    No         Don't know              No      NaN  \n",
       "2                   Yes                 No              No      NaN  \n",
       "3                 Maybe                 No             Yes      NaN  \n",
       "4                   Yes         Don't know              No      NaN  "
      ]
     },
     "execution_count": 5,
     "metadata": {},
     "output_type": "execute_result"
    }
   ],
   "source": [
    "#display the first 5 rows \n",
    "data.head()\n"
   ]
  },
  {
   "cell_type": "code",
   "execution_count": 6,
   "id": "220ad01d",
   "metadata": {},
   "outputs": [
    {
     "name": "stdout",
     "output_type": "stream",
     "text": [
      "Data Shape: (1259, 27)\n"
     ]
    }
   ],
   "source": [
    "# shape or dimension of the dataframe - number of rows and columns\n",
    "print('Data Shape:', data.shape)\n"
   ]
  },
  {
   "cell_type": "markdown",
   "id": "5433cdbb",
   "metadata": {},
   "source": [
    "Observation:\n",
    "\n",
    "There are 1259 rows and 27 columns"
   ]
  },
  {
   "cell_type": "code",
   "execution_count": 7,
   "id": "436ac88d",
   "metadata": {},
   "outputs": [
    {
     "name": "stdout",
     "output_type": "stream",
     "text": [
      "<class 'pandas.core.frame.DataFrame'>\n",
      "RangeIndex: 1259 entries, 0 to 1258\n",
      "Data columns (total 27 columns):\n",
      " #   Column                     Non-Null Count  Dtype \n",
      "---  ------                     --------------  ----- \n",
      " 0   Timestamp                  1259 non-null   object\n",
      " 1   Age                        1259 non-null   int64 \n",
      " 2   Gender                     1259 non-null   object\n",
      " 3   Country                    1259 non-null   object\n",
      " 4   state                      744 non-null    object\n",
      " 5   self_employed              1241 non-null   object\n",
      " 6   family_history             1259 non-null   object\n",
      " 7   treatment                  1259 non-null   object\n",
      " 8   work_interfere             995 non-null    object\n",
      " 9   no_employees               1259 non-null   object\n",
      " 10  remote_work                1259 non-null   object\n",
      " 11  tech_company               1259 non-null   object\n",
      " 12  benefits                   1259 non-null   object\n",
      " 13  care_options               1259 non-null   object\n",
      " 14  wellness_program           1259 non-null   object\n",
      " 15  seek_help                  1259 non-null   object\n",
      " 16  anonymity                  1259 non-null   object\n",
      " 17  leave                      1259 non-null   object\n",
      " 18  mental_health_consequence  1259 non-null   object\n",
      " 19  phys_health_consequence    1259 non-null   object\n",
      " 20  coworkers                  1259 non-null   object\n",
      " 21  supervisor                 1259 non-null   object\n",
      " 22  mental_health_interview    1259 non-null   object\n",
      " 23  phys_health_interview      1259 non-null   object\n",
      " 24  mental_vs_physical         1259 non-null   object\n",
      " 25  obs_consequence            1259 non-null   object\n",
      " 26  comments                   164 non-null    object\n",
      "dtypes: int64(1), object(26)\n",
      "memory usage: 265.7+ KB\n"
     ]
    }
   ],
   "source": [
    "# information about the dataframe\n",
    "data.info()\n"
   ]
  },
  {
   "cell_type": "markdown",
   "id": "e27640aa",
   "metadata": {},
   "source": [
    "Observation:\n",
    "\n",
    "The data type of Timestamp column is object. It is to be rectified."
   ]
  },
  {
   "cell_type": "code",
   "execution_count": 8,
   "id": "a57c8d54",
   "metadata": {},
   "outputs": [
    {
     "data": {
      "text/html": [
       "<div>\n",
       "<style scoped>\n",
       "    .dataframe tbody tr th:only-of-type {\n",
       "        vertical-align: middle;\n",
       "    }\n",
       "\n",
       "    .dataframe tbody tr th {\n",
       "        vertical-align: top;\n",
       "    }\n",
       "\n",
       "    .dataframe thead th {\n",
       "        text-align: right;\n",
       "    }\n",
       "</style>\n",
       "<table border=\"1\" class=\"dataframe\">\n",
       "  <thead>\n",
       "    <tr style=\"text-align: right;\">\n",
       "      <th></th>\n",
       "      <th>Age</th>\n",
       "    </tr>\n",
       "  </thead>\n",
       "  <tbody>\n",
       "    <tr>\n",
       "      <th>count</th>\n",
       "      <td>1.259000e+03</td>\n",
       "    </tr>\n",
       "    <tr>\n",
       "      <th>mean</th>\n",
       "      <td>7.942815e+07</td>\n",
       "    </tr>\n",
       "    <tr>\n",
       "      <th>std</th>\n",
       "      <td>2.818299e+09</td>\n",
       "    </tr>\n",
       "    <tr>\n",
       "      <th>min</th>\n",
       "      <td>-1.726000e+03</td>\n",
       "    </tr>\n",
       "    <tr>\n",
       "      <th>25%</th>\n",
       "      <td>2.700000e+01</td>\n",
       "    </tr>\n",
       "    <tr>\n",
       "      <th>50%</th>\n",
       "      <td>3.100000e+01</td>\n",
       "    </tr>\n",
       "    <tr>\n",
       "      <th>75%</th>\n",
       "      <td>3.600000e+01</td>\n",
       "    </tr>\n",
       "    <tr>\n",
       "      <th>max</th>\n",
       "      <td>1.000000e+11</td>\n",
       "    </tr>\n",
       "  </tbody>\n",
       "</table>\n",
       "</div>"
      ],
      "text/plain": [
       "                Age\n",
       "count  1.259000e+03\n",
       "mean   7.942815e+07\n",
       "std    2.818299e+09\n",
       "min   -1.726000e+03\n",
       "25%    2.700000e+01\n",
       "50%    3.100000e+01\n",
       "75%    3.600000e+01\n",
       "max    1.000000e+11"
      ]
     },
     "execution_count": 8,
     "metadata": {},
     "output_type": "execute_result"
    }
   ],
   "source": [
    "# description of the numerical data in the dataframe\n",
    "data.describe()\n"
   ]
  },
  {
   "cell_type": "markdown",
   "id": "e858b994",
   "metadata": {},
   "source": [
    "Obervation:\n",
    "\n",
    "There are some absurd values in Age column.\n",
    "The average age of the person is found to be 7.942815e+07 years and it is absurd.\n",
    "The minimum and maximum ages are found to be negative and very large numbers."
   ]
  },
  {
   "cell_type": "markdown",
   "id": "ec59b875",
   "metadata": {},
   "source": [
    "## Data Pre-Profiling"
   ]
  },
  {
   "cell_type": "code",
   "execution_count": 9,
   "id": "69ce6b6e",
   "metadata": {},
   "outputs": [],
   "source": [
    "# Pandas Profiling\n",
    "from ydata_profiling import ProfileReport\n"
   ]
  },
  {
   "cell_type": "code",
   "execution_count": 10,
   "id": "dbfd9186",
   "metadata": {},
   "outputs": [
    {
     "data": {
      "application/vnd.jupyter.widget-view+json": {
       "model_id": "8c82a988aff44e6183ad813acba76924",
       "version_major": 2,
       "version_minor": 0
      },
      "text/plain": [
       "Summarize dataset:   0%|          | 0/5 [00:00<?, ?it/s]"
      ]
     },
     "metadata": {},
     "output_type": "display_data"
    },
    {
     "data": {
      "application/vnd.jupyter.widget-view+json": {
       "model_id": "de2937194783422784be8abd61b956fa",
       "version_major": 2,
       "version_minor": 0
      },
      "text/plain": [
       "Generate report structure:   0%|          | 0/1 [00:00<?, ?it/s]"
      ]
     },
     "metadata": {},
     "output_type": "display_data"
    },
    {
     "data": {
      "application/vnd.jupyter.widget-view+json": {
       "model_id": "51841f43f59244e6af7e4c677472b159",
       "version_major": 2,
       "version_minor": 0
      },
      "text/plain": [
       "Render HTML:   0%|          | 0/1 [00:00<?, ?it/s]"
      ]
     },
     "metadata": {},
     "output_type": "display_data"
    },
    {
     "data": {
      "application/vnd.jupyter.widget-view+json": {
       "model_id": "cf2032466c1c45d987194839f6c35214",
       "version_major": 2,
       "version_minor": 0
      },
      "text/plain": [
       "Export report to file:   0%|          | 0/1 [00:00<?, ?it/s]"
      ]
     },
     "metadata": {},
     "output_type": "display_data"
    },
    {
     "name": "stdout",
     "output_type": "stream",
     "text": [
      "Report exported successfully!\n"
     ]
    }
   ],
   "source": [
    "#Generates profile reports from a pandas DataFrame\n",
    "profile = ProfileReport(df=data, minimal=True)\n",
    "\n",
    "#statistics are presented in an interactive HTML report\n",
    "profile.to_file(output_file=\"Pre Profiling Report.html\")\n",
    "print(\"Report exported successfully!\")"
   ]
  },
  {
   "cell_type": "markdown",
   "id": "9ec5c29b",
   "metadata": {},
   "source": [
    "## Data Cleaning"
   ]
  },
  {
   "cell_type": "markdown",
   "id": "b0e6f553",
   "metadata": {},
   "source": [
    "### Handling Missing Data"
   ]
  },
  {
   "cell_type": "code",
   "execution_count": 11,
   "id": "1c8ec738",
   "metadata": {},
   "outputs": [
    {
     "data": {
      "text/plain": [
       "comments                     1095\n",
       "state                         515\n",
       "work_interfere                264\n",
       "self_employed                  18\n",
       "seek_help                       0\n",
       "obs_consequence                 0\n",
       "mental_vs_physical              0\n",
       "phys_health_interview           0\n",
       "mental_health_interview         0\n",
       "supervisor                      0\n",
       "coworkers                       0\n",
       "phys_health_consequence         0\n",
       "mental_health_consequence       0\n",
       "leave                           0\n",
       "anonymity                       0\n",
       "Timestamp                       0\n",
       "wellness_program                0\n",
       "Age                             0\n",
       "benefits                        0\n",
       "tech_company                    0\n",
       "remote_work                     0\n",
       "no_employees                    0\n",
       "treatment                       0\n",
       "family_history                  0\n",
       "Country                         0\n",
       "Gender                          0\n",
       "care_options                    0\n",
       "dtype: int64"
      ]
     },
     "execution_count": 11,
     "metadata": {},
     "output_type": "execute_result"
    }
   ],
   "source": [
    "# identifying the count of missing values in each column in ascending order\n",
    "data.isna().sum().sort_values(ascending=False)\n"
   ]
  },
  {
   "cell_type": "markdown",
   "id": "a674b205",
   "metadata": {},
   "source": [
    "Obervation:\n",
    "\n",
    "There are four columns which consists of null values"
   ]
  },
  {
   "cell_type": "code",
   "execution_count": 12,
   "id": "1f9e370b",
   "metadata": {},
   "outputs": [
    {
     "data": {
      "text/html": [
       "<div>\n",
       "<style scoped>\n",
       "    .dataframe tbody tr th:only-of-type {\n",
       "        vertical-align: middle;\n",
       "    }\n",
       "\n",
       "    .dataframe tbody tr th {\n",
       "        vertical-align: top;\n",
       "    }\n",
       "\n",
       "    .dataframe thead th {\n",
       "        text-align: right;\n",
       "    }\n",
       "</style>\n",
       "<table border=\"1\" class=\"dataframe\">\n",
       "  <thead>\n",
       "    <tr style=\"text-align: right;\">\n",
       "      <th></th>\n",
       "      <th>Frequency</th>\n",
       "      <th>Missing Percentage</th>\n",
       "    </tr>\n",
       "  </thead>\n",
       "  <tbody>\n",
       "    <tr>\n",
       "      <th>Timestamp</th>\n",
       "      <td>0</td>\n",
       "      <td>0.000000</td>\n",
       "    </tr>\n",
       "    <tr>\n",
       "      <th>Age</th>\n",
       "      <td>0</td>\n",
       "      <td>0.000000</td>\n",
       "    </tr>\n",
       "    <tr>\n",
       "      <th>Gender</th>\n",
       "      <td>0</td>\n",
       "      <td>0.000000</td>\n",
       "    </tr>\n",
       "    <tr>\n",
       "      <th>Country</th>\n",
       "      <td>0</td>\n",
       "      <td>0.000000</td>\n",
       "    </tr>\n",
       "    <tr>\n",
       "      <th>state</th>\n",
       "      <td>515</td>\n",
       "      <td>40.905481</td>\n",
       "    </tr>\n",
       "    <tr>\n",
       "      <th>self_employed</th>\n",
       "      <td>18</td>\n",
       "      <td>1.429706</td>\n",
       "    </tr>\n",
       "    <tr>\n",
       "      <th>family_history</th>\n",
       "      <td>0</td>\n",
       "      <td>0.000000</td>\n",
       "    </tr>\n",
       "    <tr>\n",
       "      <th>treatment</th>\n",
       "      <td>0</td>\n",
       "      <td>0.000000</td>\n",
       "    </tr>\n",
       "    <tr>\n",
       "      <th>work_interfere</th>\n",
       "      <td>264</td>\n",
       "      <td>20.969023</td>\n",
       "    </tr>\n",
       "    <tr>\n",
       "      <th>no_employees</th>\n",
       "      <td>0</td>\n",
       "      <td>0.000000</td>\n",
       "    </tr>\n",
       "    <tr>\n",
       "      <th>remote_work</th>\n",
       "      <td>0</td>\n",
       "      <td>0.000000</td>\n",
       "    </tr>\n",
       "    <tr>\n",
       "      <th>tech_company</th>\n",
       "      <td>0</td>\n",
       "      <td>0.000000</td>\n",
       "    </tr>\n",
       "    <tr>\n",
       "      <th>benefits</th>\n",
       "      <td>0</td>\n",
       "      <td>0.000000</td>\n",
       "    </tr>\n",
       "    <tr>\n",
       "      <th>care_options</th>\n",
       "      <td>0</td>\n",
       "      <td>0.000000</td>\n",
       "    </tr>\n",
       "    <tr>\n",
       "      <th>wellness_program</th>\n",
       "      <td>0</td>\n",
       "      <td>0.000000</td>\n",
       "    </tr>\n",
       "    <tr>\n",
       "      <th>seek_help</th>\n",
       "      <td>0</td>\n",
       "      <td>0.000000</td>\n",
       "    </tr>\n",
       "    <tr>\n",
       "      <th>anonymity</th>\n",
       "      <td>0</td>\n",
       "      <td>0.000000</td>\n",
       "    </tr>\n",
       "    <tr>\n",
       "      <th>leave</th>\n",
       "      <td>0</td>\n",
       "      <td>0.000000</td>\n",
       "    </tr>\n",
       "    <tr>\n",
       "      <th>mental_health_consequence</th>\n",
       "      <td>0</td>\n",
       "      <td>0.000000</td>\n",
       "    </tr>\n",
       "    <tr>\n",
       "      <th>phys_health_consequence</th>\n",
       "      <td>0</td>\n",
       "      <td>0.000000</td>\n",
       "    </tr>\n",
       "    <tr>\n",
       "      <th>coworkers</th>\n",
       "      <td>0</td>\n",
       "      <td>0.000000</td>\n",
       "    </tr>\n",
       "    <tr>\n",
       "      <th>supervisor</th>\n",
       "      <td>0</td>\n",
       "      <td>0.000000</td>\n",
       "    </tr>\n",
       "    <tr>\n",
       "      <th>mental_health_interview</th>\n",
       "      <td>0</td>\n",
       "      <td>0.000000</td>\n",
       "    </tr>\n",
       "    <tr>\n",
       "      <th>phys_health_interview</th>\n",
       "      <td>0</td>\n",
       "      <td>0.000000</td>\n",
       "    </tr>\n",
       "    <tr>\n",
       "      <th>mental_vs_physical</th>\n",
       "      <td>0</td>\n",
       "      <td>0.000000</td>\n",
       "    </tr>\n",
       "    <tr>\n",
       "      <th>obs_consequence</th>\n",
       "      <td>0</td>\n",
       "      <td>0.000000</td>\n",
       "    </tr>\n",
       "    <tr>\n",
       "      <th>comments</th>\n",
       "      <td>1095</td>\n",
       "      <td>86.973789</td>\n",
       "    </tr>\n",
       "  </tbody>\n",
       "</table>\n",
       "</div>"
      ],
      "text/plain": [
       "                           Frequency  Missing Percentage\n",
       "Timestamp                          0            0.000000\n",
       "Age                                0            0.000000\n",
       "Gender                             0            0.000000\n",
       "Country                            0            0.000000\n",
       "state                            515           40.905481\n",
       "self_employed                     18            1.429706\n",
       "family_history                     0            0.000000\n",
       "treatment                          0            0.000000\n",
       "work_interfere                   264           20.969023\n",
       "no_employees                       0            0.000000\n",
       "remote_work                        0            0.000000\n",
       "tech_company                       0            0.000000\n",
       "benefits                           0            0.000000\n",
       "care_options                       0            0.000000\n",
       "wellness_program                   0            0.000000\n",
       "seek_help                          0            0.000000\n",
       "anonymity                          0            0.000000\n",
       "leave                              0            0.000000\n",
       "mental_health_consequence          0            0.000000\n",
       "phys_health_consequence            0            0.000000\n",
       "coworkers                          0            0.000000\n",
       "supervisor                         0            0.000000\n",
       "mental_health_interview            0            0.000000\n",
       "phys_health_interview              0            0.000000\n",
       "mental_vs_physical                 0            0.000000\n",
       "obs_consequence                    0            0.000000\n",
       "comments                        1095           86.973789"
      ]
     },
     "execution_count": 12,
     "metadata": {},
     "output_type": "execute_result"
    }
   ],
   "source": [
    "#create a new frame to get the details of null values in each column\n",
    "null_frame = pd.DataFrame(index = data.columns)\n",
    "\n",
    "null_frame['Frequency'] = data.isna().sum()\n",
    "\n",
    "null_frame['Missing Percentage'] = (data.isna().sum()/data.shape[0])*100\n",
    "null_frame\n"
   ]
  },
  {
   "cell_type": "markdown",
   "id": "b9713228",
   "metadata": {},
   "source": [
    "Observations:   "
   ]
  },
  {
   "cell_type": "markdown",
   "id": "8929c606",
   "metadata": {},
   "source": [
    "|Feature|\t\t    Missing %\t|Solution|\n",
    "    |-------|---------|---------|\n",
    "    |state\t\t    |40.9%\t   | Replace with mode|\n",
    "    |self_employed\t|1.43%\t    |Replace with mode|\n",
    "    |work_interfere\t|20.97%\t    |Replace with mode|\n",
    "   | comments\t\t|86.97%\t    |Drop the feature as the missing percentage is too high|"
   ]
  },
  {
   "cell_type": "markdown",
   "id": "b47676e7",
   "metadata": {},
   "source": [
    "#### Handling state column"
   ]
  },
  {
   "cell_type": "code",
   "execution_count": 13,
   "id": "59382467",
   "metadata": {},
   "outputs": [
    {
     "data": {
      "text/plain": [
       "0    CA\n",
       "Name: state, dtype: object"
      ]
     },
     "execution_count": 13,
     "metadata": {},
     "output_type": "execute_result"
    }
   ],
   "source": [
    "#check the mode values in state column\n",
    "data.state.mode()\n"
   ]
  },
  {
   "cell_type": "code",
   "execution_count": 14,
   "id": "e0555029",
   "metadata": {},
   "outputs": [],
   "source": [
    "#fill the missing values in state column with mode \n",
    "data.state.fillna(data.state.mode()[0], inplace = True)\n"
   ]
  },
  {
   "cell_type": "markdown",
   "id": "1630abf6",
   "metadata": {},
   "source": [
    "#### Handling self_employed column"
   ]
  },
  {
   "cell_type": "code",
   "execution_count": 15,
   "id": "b5a2b397",
   "metadata": {},
   "outputs": [
    {
     "data": {
      "text/plain": [
       "0    No\n",
       "Name: self_employed, dtype: object"
      ]
     },
     "execution_count": 15,
     "metadata": {},
     "output_type": "execute_result"
    }
   ],
   "source": [
    "#check the mode values in self_employed column\n",
    "data.self_employed.mode()\n"
   ]
  },
  {
   "cell_type": "code",
   "execution_count": 16,
   "id": "dbbb1de9",
   "metadata": {},
   "outputs": [],
   "source": [
    "#fill the missing values in self_employed column with mode \n",
    "data.self_employed.fillna(data.self_employed.mode()[0], inplace=True)\n"
   ]
  },
  {
   "cell_type": "markdown",
   "id": "b195fd5c",
   "metadata": {},
   "source": [
    "#### Handling work_interfere column"
   ]
  },
  {
   "cell_type": "code",
   "execution_count": 17,
   "id": "174acf04",
   "metadata": {},
   "outputs": [
    {
     "data": {
      "text/plain": [
       "0    Sometimes\n",
       "Name: work_interfere, dtype: object"
      ]
     },
     "execution_count": 17,
     "metadata": {},
     "output_type": "execute_result"
    }
   ],
   "source": [
    "#check the mode values in work_interfere column\n",
    "data.work_interfere.mode()\n"
   ]
  },
  {
   "cell_type": "code",
   "execution_count": 18,
   "id": "ae985837",
   "metadata": {},
   "outputs": [],
   "source": [
    "#fill the missing values in work_interfere column with mode \n",
    "data.work_interfere.fillna(data.work_interfere.mode()[0], inplace=True)\n"
   ]
  },
  {
   "cell_type": "markdown",
   "id": "9cb2bedd",
   "metadata": {},
   "source": [
    "#### Handling comments column"
   ]
  },
  {
   "cell_type": "code",
   "execution_count": 19,
   "id": "de559b0d",
   "metadata": {},
   "outputs": [],
   "source": [
    "#drop comments column\n",
    "data.drop(['comments'], axis=1, inplace=True)\n"
   ]
  },
  {
   "cell_type": "markdown",
   "id": "6617b55d",
   "metadata": {},
   "source": [
    "#### verification after handling missing data"
   ]
  },
  {
   "cell_type": "code",
   "execution_count": 20,
   "id": "af757479",
   "metadata": {},
   "outputs": [
    {
     "data": {
      "text/plain": [
       "Timestamp                    0\n",
       "Age                          0\n",
       "mental_vs_physical           0\n",
       "phys_health_interview        0\n",
       "mental_health_interview      0\n",
       "supervisor                   0\n",
       "coworkers                    0\n",
       "phys_health_consequence      0\n",
       "mental_health_consequence    0\n",
       "leave                        0\n",
       "anonymity                    0\n",
       "seek_help                    0\n",
       "wellness_program             0\n",
       "care_options                 0\n",
       "benefits                     0\n",
       "tech_company                 0\n",
       "remote_work                  0\n",
       "no_employees                 0\n",
       "work_interfere               0\n",
       "treatment                    0\n",
       "family_history               0\n",
       "self_employed                0\n",
       "state                        0\n",
       "Country                      0\n",
       "Gender                       0\n",
       "obs_consequence              0\n",
       "dtype: int64"
      ]
     },
     "execution_count": 20,
     "metadata": {},
     "output_type": "execute_result"
    }
   ],
   "source": [
    "# identifying the count of missing data in each column in ascending order\n",
    "data.isna().sum().sort_values(ascending=False)\n"
   ]
  },
  {
   "cell_type": "markdown",
   "id": "c97c4eae",
   "metadata": {},
   "source": [
    "### Handling Redundant Data"
   ]
  },
  {
   "cell_type": "code",
   "execution_count": 21,
   "id": "32a90e3b",
   "metadata": {},
   "outputs": [
    {
     "data": {
      "text/plain": [
       "False"
      ]
     },
     "execution_count": 21,
     "metadata": {},
     "output_type": "execute_result"
    }
   ],
   "source": [
    "# finding duplicated rows in the dataframe\n",
    "data.duplicated().any()\n"
   ]
  },
  {
   "cell_type": "code",
   "execution_count": 22,
   "id": "5fe6c930",
   "metadata": {},
   "outputs": [
    {
     "data": {
      "text/plain": [
       "0"
      ]
     },
     "execution_count": 22,
     "metadata": {},
     "output_type": "execute_result"
    }
   ],
   "source": [
    "data.duplicated().sum()\n"
   ]
  },
  {
   "cell_type": "markdown",
   "id": "d64bc38f",
   "metadata": {},
   "source": [
    "Observation:\n",
    "\n",
    "There are no duplicated rows."
   ]
  },
  {
   "cell_type": "markdown",
   "id": "0f9c0abb",
   "metadata": {},
   "source": [
    "### Handling Inconsistent Data"
   ]
  },
  {
   "cell_type": "markdown",
   "id": "b1c63966",
   "metadata": {},
   "source": [
    "It was noticed that Timestamp feature was identified as Object"
   ]
  },
  {
   "cell_type": "code",
   "execution_count": 23,
   "id": "c4df6a6a",
   "metadata": {},
   "outputs": [],
   "source": [
    "#changing the data type of Timestamp column\n",
    "data['Timestamp'] = pd.to_datetime(data.Timestamp)\n"
   ]
  },
  {
   "cell_type": "markdown",
   "id": "3367f2cb",
   "metadata": {},
   "source": [
    "#### verification after Handling of Timestamp column"
   ]
  },
  {
   "cell_type": "code",
   "execution_count": 24,
   "id": "f47ee176",
   "metadata": {},
   "outputs": [
    {
     "name": "stdout",
     "output_type": "stream",
     "text": [
      "<class 'pandas.core.frame.DataFrame'>\n",
      "RangeIndex: 1259 entries, 0 to 1258\n",
      "Data columns (total 26 columns):\n",
      " #   Column                     Non-Null Count  Dtype         \n",
      "---  ------                     --------------  -----         \n",
      " 0   Timestamp                  1259 non-null   datetime64[ns]\n",
      " 1   Age                        1259 non-null   int64         \n",
      " 2   Gender                     1259 non-null   object        \n",
      " 3   Country                    1259 non-null   object        \n",
      " 4   state                      1259 non-null   object        \n",
      " 5   self_employed              1259 non-null   object        \n",
      " 6   family_history             1259 non-null   object        \n",
      " 7   treatment                  1259 non-null   object        \n",
      " 8   work_interfere             1259 non-null   object        \n",
      " 9   no_employees               1259 non-null   object        \n",
      " 10  remote_work                1259 non-null   object        \n",
      " 11  tech_company               1259 non-null   object        \n",
      " 12  benefits                   1259 non-null   object        \n",
      " 13  care_options               1259 non-null   object        \n",
      " 14  wellness_program           1259 non-null   object        \n",
      " 15  seek_help                  1259 non-null   object        \n",
      " 16  anonymity                  1259 non-null   object        \n",
      " 17  leave                      1259 non-null   object        \n",
      " 18  mental_health_consequence  1259 non-null   object        \n",
      " 19  phys_health_consequence    1259 non-null   object        \n",
      " 20  coworkers                  1259 non-null   object        \n",
      " 21  supervisor                 1259 non-null   object        \n",
      " 22  mental_health_interview    1259 non-null   object        \n",
      " 23  phys_health_interview      1259 non-null   object        \n",
      " 24  mental_vs_physical         1259 non-null   object        \n",
      " 25  obs_consequence            1259 non-null   object        \n",
      "dtypes: datetime64[ns](1), int64(1), object(24)\n",
      "memory usage: 255.9+ KB\n"
     ]
    }
   ],
   "source": [
    "# information about the dataframe\n",
    "data.info()\n"
   ]
  },
  {
   "cell_type": "markdown",
   "id": "2781f34d",
   "metadata": {},
   "source": [
    "#### checking for any inconsistencies in categorical columns"
   ]
  },
  {
   "cell_type": "code",
   "execution_count": 25,
   "id": "919f20c8",
   "metadata": {},
   "outputs": [
    {
     "name": "stdout",
     "output_type": "stream",
     "text": [
      "Columns are: ['Gender', 'Country', 'state', 'self_employed', 'family_history', 'treatment', 'work_interfere', 'no_employees', 'remote_work', 'tech_company', 'benefits', 'care_options', 'wellness_program', 'seek_help', 'anonymity', 'leave', 'mental_health_consequence', 'phys_health_consequence', 'coworkers', 'supervisor', 'mental_health_interview', 'phys_health_interview', 'mental_vs_physical', 'obs_consequence'] \n",
      "\n",
      "Column: Gender\n",
      "No.of unique values: 49\n",
      "['Female' 'M' 'Male' 'male' 'female' 'm' 'Male-ish' 'maile' 'Trans-female'\n",
      " 'Cis Female' 'F' 'something kinda male?' 'Cis Male' 'Woman' 'f' 'Mal'\n",
      " 'Male (CIS)' 'queer/she/they' 'non-binary' 'Femake' 'woman' 'Make' 'Nah'\n",
      " 'All' 'Enby' 'fluid' 'Genderqueer' 'Female ' 'Androgyne' 'Agender'\n",
      " 'cis-female/femme' 'Guy (-ish) ^_^' 'male leaning androgynous' 'Male '\n",
      " 'Man' 'Trans woman' 'msle' 'Neuter' 'Female (trans)' 'queer'\n",
      " 'Female (cis)' 'Mail' 'cis male' 'A little about you' 'Malr' 'p' 'femail'\n",
      " 'Cis Man' 'ostensibly male, unsure what that really means'] \n",
      "\n",
      "\n",
      "Column: Country\n",
      "No.of unique values: 48\n",
      "['United States' 'Canada' 'United Kingdom' 'Bulgaria' 'France' 'Portugal'\n",
      " 'Netherlands' 'Switzerland' 'Poland' 'Australia' 'Germany' 'Russia'\n",
      " 'Mexico' 'Brazil' 'Slovenia' 'Costa Rica' 'Austria' 'Ireland' 'India'\n",
      " 'South Africa' 'Italy' 'Sweden' 'Colombia' 'Latvia' 'Romania' 'Belgium'\n",
      " 'New Zealand' 'Zimbabwe' 'Spain' 'Finland' 'Uruguay' 'Israel'\n",
      " 'Bosnia and Herzegovina' 'Hungary' 'Singapore' 'Japan' 'Nigeria'\n",
      " 'Croatia' 'Norway' 'Thailand' 'Denmark' 'Bahamas, The' 'Greece' 'Moldova'\n",
      " 'Georgia' 'China' 'Czech Republic' 'Philippines'] \n",
      "\n",
      "\n",
      "Column: state\n",
      "No.of unique values: 45\n",
      "['IL' 'IN' 'CA' 'TX' 'TN' 'MI' 'OH' 'CT' 'MD' 'NY' 'NC' 'MA' 'IA' 'PA'\n",
      " 'WA' 'WI' 'UT' 'NM' 'OR' 'FL' 'MN' 'MO' 'AZ' 'CO' 'GA' 'DC' 'NE' 'WV'\n",
      " 'OK' 'KS' 'VA' 'NH' 'KY' 'AL' 'NV' 'NJ' 'SC' 'VT' 'SD' 'ID' 'MS' 'RI'\n",
      " 'WY' 'LA' 'ME'] \n",
      "\n",
      "\n",
      "Column: self_employed\n",
      "No.of unique values: 2\n",
      "['No' 'Yes'] \n",
      "\n",
      "\n",
      "Column: family_history\n",
      "No.of unique values: 2\n",
      "['No' 'Yes'] \n",
      "\n",
      "\n",
      "Column: treatment\n",
      "No.of unique values: 2\n",
      "['Yes' 'No'] \n",
      "\n",
      "\n",
      "Column: work_interfere\n",
      "No.of unique values: 4\n",
      "['Often' 'Rarely' 'Never' 'Sometimes'] \n",
      "\n",
      "\n",
      "Column: no_employees\n",
      "No.of unique values: 6\n",
      "['6-25' 'More than 1000' '26-100' '100-500' '1-5' '500-1000'] \n",
      "\n",
      "\n",
      "Column: remote_work\n",
      "No.of unique values: 2\n",
      "['No' 'Yes'] \n",
      "\n",
      "\n",
      "Column: tech_company\n",
      "No.of unique values: 2\n",
      "['Yes' 'No'] \n",
      "\n",
      "\n",
      "Column: benefits\n",
      "No.of unique values: 3\n",
      "['Yes' \"Don't know\" 'No'] \n",
      "\n",
      "\n",
      "Column: care_options\n",
      "No.of unique values: 3\n",
      "['Not sure' 'No' 'Yes'] \n",
      "\n",
      "\n",
      "Column: wellness_program\n",
      "No.of unique values: 3\n",
      "['No' \"Don't know\" 'Yes'] \n",
      "\n",
      "\n",
      "Column: seek_help\n",
      "No.of unique values: 3\n",
      "['Yes' \"Don't know\" 'No'] \n",
      "\n",
      "\n",
      "Column: anonymity\n",
      "No.of unique values: 3\n",
      "['Yes' \"Don't know\" 'No'] \n",
      "\n",
      "\n",
      "Column: leave\n",
      "No.of unique values: 5\n",
      "['Somewhat easy' \"Don't know\" 'Somewhat difficult' 'Very difficult'\n",
      " 'Very easy'] \n",
      "\n",
      "\n",
      "Column: mental_health_consequence\n",
      "No.of unique values: 3\n",
      "['No' 'Maybe' 'Yes'] \n",
      "\n",
      "\n",
      "Column: phys_health_consequence\n",
      "No.of unique values: 3\n",
      "['No' 'Yes' 'Maybe'] \n",
      "\n",
      "\n",
      "Column: coworkers\n",
      "No.of unique values: 3\n",
      "['Some of them' 'No' 'Yes'] \n",
      "\n",
      "\n",
      "Column: supervisor\n",
      "No.of unique values: 3\n",
      "['Yes' 'No' 'Some of them'] \n",
      "\n",
      "\n",
      "Column: mental_health_interview\n",
      "No.of unique values: 3\n",
      "['No' 'Yes' 'Maybe'] \n",
      "\n",
      "\n",
      "Column: phys_health_interview\n",
      "No.of unique values: 3\n",
      "['Maybe' 'No' 'Yes'] \n",
      "\n",
      "\n",
      "Column: mental_vs_physical\n",
      "No.of unique values: 3\n",
      "['Yes' \"Don't know\" 'No'] \n",
      "\n",
      "\n",
      "Column: obs_consequence\n",
      "No.of unique values: 2\n",
      "['No' 'Yes'] \n",
      "\n",
      "\n"
     ]
    }
   ],
   "source": [
    "# display all the column names \n",
    "cols = data.select_dtypes(include=['object']).columns.to_list()\n",
    "print(\"Columns are:\", cols,\"\\n\")  \n",
    "\n",
    "for c in cols:\n",
    "    print(\"Column:\",c)     #display column name\n",
    "    print(\"No.of unique values:\",len(data[c].unique()))    #display number of unique values\n",
    "    print(data[c].unique(),\"\\n\\n\")   #display unique values"
   ]
  },
  {
   "cell_type": "markdown",
   "id": "b386399c",
   "metadata": {},
   "source": [
    "Observation:\n",
    "    \n",
    "Gender column is having data in different formats. There are 49 unique values in Gender column"
   ]
  },
  {
   "cell_type": "code",
   "execution_count": 26,
   "id": "6b15e0bb",
   "metadata": {},
   "outputs": [
    {
     "data": {
      "text/plain": [
       "Male                                              615\n",
       "male                                              206\n",
       "Female                                            121\n",
       "M                                                 116\n",
       "female                                             62\n",
       "F                                                  38\n",
       "m                                                  34\n",
       "f                                                  15\n",
       "Make                                                4\n",
       "Male                                                3\n",
       "Woman                                               3\n",
       "Cis Male                                            2\n",
       "Man                                                 2\n",
       "Female (trans)                                      2\n",
       "Female                                              2\n",
       "Trans woman                                         1\n",
       "msle                                                1\n",
       "male leaning androgynous                            1\n",
       "Neuter                                              1\n",
       "cis male                                            1\n",
       "queer                                               1\n",
       "Female (cis)                                        1\n",
       "Mail                                                1\n",
       "cis-female/femme                                    1\n",
       "A little about you                                  1\n",
       "Malr                                                1\n",
       "p                                                   1\n",
       "femail                                              1\n",
       "Cis Man                                             1\n",
       "Guy (-ish) ^_^                                      1\n",
       "Enby                                                1\n",
       "Agender                                             1\n",
       "Androgyne                                           1\n",
       "Male-ish                                            1\n",
       "maile                                               1\n",
       "Trans-female                                        1\n",
       "Cis Female                                          1\n",
       "something kinda male?                               1\n",
       "Mal                                                 1\n",
       "Male (CIS)                                          1\n",
       "queer/she/they                                      1\n",
       "non-binary                                          1\n",
       "Femake                                              1\n",
       "woman                                               1\n",
       "Nah                                                 1\n",
       "All                                                 1\n",
       "fluid                                               1\n",
       "Genderqueer                                         1\n",
       "ostensibly male, unsure what that really means      1\n",
       "Name: Gender, dtype: int64"
      ]
     },
     "execution_count": 26,
     "metadata": {},
     "output_type": "execute_result"
    }
   ],
   "source": [
    "# to display values in Gender column and it's count\n",
    "data.Gender.value_counts()\n"
   ]
  },
  {
   "cell_type": "code",
   "execution_count": 27,
   "id": "0096c5ab",
   "metadata": {},
   "outputs": [],
   "source": [
    "# Remove the Undecisive\n",
    "list = ['A little about you', 'p']\n",
    "data = data[~data['Gender'].isin(list)]\n"
   ]
  },
  {
   "cell_type": "markdown",
   "id": "b5ae8616",
   "metadata": {},
   "source": [
    "verification"
   ]
  },
  {
   "cell_type": "code",
   "execution_count": 28,
   "id": "92121711",
   "metadata": {},
   "outputs": [
    {
     "data": {
      "text/plain": [
       "47"
      ]
     },
     "execution_count": 28,
     "metadata": {},
     "output_type": "execute_result"
    }
   ],
   "source": [
    "len(data.Gender.value_counts())\n"
   ]
  },
  {
   "cell_type": "code",
   "execution_count": 29,
   "id": "3b6d3546",
   "metadata": {},
   "outputs": [],
   "source": [
    "# create separate lists for three categories\n",
    "male_str = [\"male\", \"m\", \"male-ish\", \"maile\", \"mal\", \"male (cis)\", \"make\",\n",
    "            \"male \", \"man\", \"msle\", \"mail\", \"malr\", \"cis man\", \"Cis Male\",\n",
    "            \"cis male\"]\n",
    "\n",
    "female_str = [\"cis female\", \"f\", \"female\", \"woman\",  \"femake\", \"female \",\n",
    "              \"cis-female/femme\", \"female (cis)\", \"femail\"]\n",
    "\n",
    "trans_str = [\"trans-female\", \"something kinda male?\", \"queer/she/they\",\n",
    "             \"non-binary\", \"nah\", \"all\", \"enby\", \"fluid\", \"genderqueer\",\n",
    "             \"androgyne\", \"agender\", \"male leaning androgynous\",\n",
    "             \"guy (-ish) ^_^\",\n",
    "             \"trans woman\", \"neuter\", \"female (trans)\", \"queer\",\n",
    "             \"ostensibly male, unsure what that really means\"]\n"
   ]
  },
  {
   "cell_type": "code",
   "execution_count": 30,
   "id": "bacc4f05",
   "metadata": {},
   "outputs": [],
   "source": [
    "#storing the essential data in Gender column\n",
    "def gender_discover(x):\n",
    "    if x in male_str:\n",
    "        return \"male\"\n",
    "    elif x in female_str:\n",
    "        return \"female\"\n",
    "    else:\n",
    "        return \"trans\"\n",
    "    \n",
    "data['Gender'] = data['Gender'].apply(gender_discover)\n"
   ]
  },
  {
   "cell_type": "markdown",
   "id": "fd40f659",
   "metadata": {},
   "source": [
    "#### verification"
   ]
  },
  {
   "cell_type": "code",
   "execution_count": 31,
   "id": "921d7137",
   "metadata": {},
   "outputs": [
    {
     "data": {
      "text/plain": [
       "3"
      ]
     },
     "execution_count": 31,
     "metadata": {},
     "output_type": "execute_result"
    }
   ],
   "source": [
    "len(data.Gender.value_counts())\n"
   ]
  },
  {
   "cell_type": "code",
   "execution_count": 32,
   "id": "20b0dc82",
   "metadata": {},
   "outputs": [
    {
     "data": {
      "text/plain": [
       "trans     932\n",
       "male      245\n",
       "female     80\n",
       "Name: Gender, dtype: int64"
      ]
     },
     "execution_count": 32,
     "metadata": {},
     "output_type": "execute_result"
    }
   ],
   "source": [
    "# to display values in Gender column and it's count\n",
    "data.Gender.value_counts()\n"
   ]
  },
  {
   "cell_type": "markdown",
   "id": "87f829f3",
   "metadata": {},
   "source": [
    "#### Handling outliers in Age column"
   ]
  },
  {
   "cell_type": "markdown",
   "id": "d2d22228",
   "metadata": {},
   "source": [
    "All value above 60 will be capped to 60 (on average 60 is the retirement age for employment).\n",
    "All value below 18 will be capped to 18 (on average 18 is the minimum age for employment)"
   ]
  },
  {
   "cell_type": "code",
   "execution_count": 33,
   "id": "47d8c90d",
   "metadata": {},
   "outputs": [],
   "source": [
    "#removing the outliers\n",
    "data[\"Age\"] = np.where(data[\"Age\"] <18, 18, data[\"Age\"])\n",
    "data[\"Age\"] = np.where(data[\"Age\"] >60, 60, data[\"Age\"])\n"
   ]
  },
  {
   "cell_type": "markdown",
   "id": "ab25e86d",
   "metadata": {},
   "source": [
    "#### verification after handling outliers in Age column"
   ]
  },
  {
   "cell_type": "code",
   "execution_count": 34,
   "id": "41d117a5",
   "metadata": {},
   "outputs": [
    {
     "data": {
      "text/plain": [
       "<AxesSubplot:>"
      ]
     },
     "execution_count": 34,
     "metadata": {},
     "output_type": "execute_result"
    },
    {
     "data": {
      "image/png": "[encoded data removed]",
      "text/plain": [
       "<Figure size 432x288 with 1 Axes>"
      ]
     },
     "metadata": {
      "needs_background": "light"
     },
     "output_type": "display_data"
    }
   ],
   "source": [
    "# display distribution of data\n",
    "data.Age.hist(bins = 21)\n"
   ]
  },
  {
   "cell_type": "markdown",
   "id": "f5bc5b68",
   "metadata": {},
   "source": [
    "Observations:\n",
    "    \n",
    "Majority of people participated in the survey are from mid 20s to mid 30s"
   ]
  },
  {
   "cell_type": "markdown",
   "id": "e3ed3b22",
   "metadata": {},
   "source": [
    "## Exploratory Data Analysis"
   ]
  },
  {
   "cell_type": "markdown",
   "id": "ff4c383c",
   "metadata": {},
   "source": [
    "### Question: How does age relate to their awareness toward mental health?"
   ]
  },
  {
   "cell_type": "code",
   "execution_count": 35,
   "id": "1e766ef2",
   "metadata": {},
   "outputs": [
    {
     "data": {
      "image/png": "[encoded data removed]",
      "text/plain": [
       "<Figure size 1080x504 with 1 Axes>"
      ]
     },
     "metadata": {
      "needs_background": "light"
     },
     "output_type": "display_data"
    }
   ],
   "source": [
    "# plotting an empty figure of width 15 and height 7\n",
    "fig = plt.figure(figsize=(15, 7))\n",
    "\n",
    "# Plot countplot of age concerning treatment\n",
    "sns.countplot(x='Age', hue='treatment', data=data)\n",
    "\n",
    "# Add title name\n",
    "plt.title(label='Age vs Treatment', size=16)\n",
    "\n",
    "# Add x and y labels\n",
    "plt.xlabel(xlabel='Age', size=14)\n",
    "plt.ylabel(ylabel='Frequency', size=14)\n",
    "plt.grid(b=True)\n",
    "\n",
    "# Display the plot\n",
    "plt.show()\n"
   ]
  },
  {
   "cell_type": "markdown",
   "id": "288d85f1",
   "metadata": {},
   "source": [
    "Observation:\n",
    "\n",
    "People in the age group 18 - 26 are less conscious about treatment.\n",
    "People in the age group 27 - 29 are not seriously concerned about their mental health.\n",
    "People of age 33 and above are conscious and are up for treatment.\n"
   ]
  },
  {
   "cell_type": "markdown",
   "id": "517d867c",
   "metadata": {},
   "source": [
    "### What is the association between treatment and gender in terms of ratio?"
   ]
  },
  {
   "cell_type": "code",
   "execution_count": 36,
   "id": "e5ee7b10",
   "metadata": {},
   "outputs": [
    {
     "data": {
      "image/png": "[encoded data removed]",
      "text/plain": [
       "<Figure size 1080x504 with 3 Axes>"
      ]
     },
     "metadata": {},
     "output_type": "display_data"
    }
   ],
   "source": [
    "# Instantiate figure and axes object\n",
    "fig, ax = plt.subplots(nrows=1, ncols=3, figsize=(15, 7))\n",
    "\n",
    "# Initiate a list of gender values and index\n",
    "gender = ['male','female','trans']\n",
    "custom_index = [0, 1, 2]\n",
    "\n",
    "# Plot donut chart for each gender concerning treatment\n",
    "for i, j in zip(gender, custom_index):\n",
    "  data['treatment'][data['Gender']==i].value_counts().plot.pie(\n",
    "                                              autopct='%1.1f%%', \n",
    "                                              wedgeprops=dict(width=0.15), \n",
    "                                              ax=ax[j])\n",
    "                                        \n",
    "  ax[j].set_title(label= i.capitalize(), size=16)\n",
    "  ax[j].set_ylabel(ylabel='Treatment', size=14)\n",
    "\n",
    "\n",
    "# Display the graph\n",
    "plt.show()\n"
   ]
  },
  {
   "cell_type": "markdown",
   "id": "660e1819",
   "metadata": {},
   "source": [
    "Observation:\n",
    "\n",
    "Females are concerned about their mental health and 71.2% females are taking treatment"
   ]
  },
  {
   "cell_type": "markdown",
   "id": "6bd4df19",
   "metadata": {},
   "source": [
    "### Question: What is the association between treatment and family history of the employee?"
   ]
  },
  {
   "cell_type": "code",
   "execution_count": 37,
   "id": "c056483d",
   "metadata": {},
   "outputs": [
    {
     "data": {
      "image/png": "[encoded data removed]",
      "text/plain": [
       "<Figure size 576x432 with 1 Axes>"
      ]
     },
     "metadata": {
      "needs_background": "light"
     },
     "output_type": "display_data"
    }
   ],
   "source": [
    "# plotting an empty figure of width 8 and height 6\n",
    "fig = plt.figure(figsize=(8, 6))\n",
    "\n",
    "# Plot the coutplot figure\n",
    "ax = sns.countplot(x='family_history', hue='treatment', data=data, palette = 'hls')\n",
    "\n",
    "# to label the values\n",
    "for i in ax.containers:\n",
    "    ax.bar_label(i,)\n",
    "\n",
    "plt.title('Does family history affects mental health?', size=16)\n",
    "\n",
    "plt.xlabel('Family History', size=14)\n",
    "plt.ylabel('Count', size=14)\n",
    "\n",
    "# Display the figure\n",
    "plt.show()\n"
   ]
  },
  {
   "cell_type": "markdown",
   "id": "5754b728",
   "metadata": {},
   "source": [
    "Observation:\n",
    "    \n",
    "Employees who have family history are very much likely to go for treatment"
   ]
  },
  {
   "cell_type": "markdown",
   "id": "46445122",
   "metadata": {},
   "source": [
    "### Question: What is the association between treatment and number of the employee in the company?"
   ]
  },
  {
   "cell_type": "code",
   "execution_count": 38,
   "id": "d3412860",
   "metadata": {},
   "outputs": [
    {
     "data": {
      "image/png": "[encoded data removed]",
      "text/plain": [
       "<Figure size 1080x504 with 1 Axes>"
      ]
     },
     "metadata": {
      "needs_background": "light"
     },
     "output_type": "display_data"
    }
   ],
   "source": [
    "# plotting an empty figure of width 15 and height 7\n",
    "fig = plt.figure(figsize=(15, 7))\n",
    "\n",
    "# Plot the coutplot figure\n",
    "order = ['1-5', '6-25', '26-100', '100-500', '500-1000', 'More than 1000']\n",
    "ax = sns.countplot(x='no_employees', hue='treatment',data = data, order = order, palette = 'hls')\n",
    "\n",
    "# to label the values\n",
    "for i in ax.containers:\n",
    "    ax.bar_label(i,)\n",
    "\n",
    "plt.title('Does Number of Employees affects mental health?', size=16)\n",
    "\n",
    "plt.xlabel('Range of Number of Employees', size=14)\n",
    "plt.ylabel('Number of Employees', size=14)\n",
    "\n",
    "# Display the figure\n",
    "plt.show()\n"
   ]
  },
  {
   "cell_type": "markdown",
   "id": "97fa5368",
   "metadata": {},
   "source": [
    "Observation:\n",
    "\n",
    "More number of people are going for treatment when the company size is 26-100.\n",
    "It is also noticed that less number of people are going for treatment when the company size is 6-25\n"
   ]
  },
  {
   "cell_type": "markdown",
   "id": "15908fa7",
   "metadata": {},
   "source": [
    "### Question: What is the association between treatment and easiness of taking leave in the company?"
   ]
  },
  {
   "cell_type": "code",
   "execution_count": 38,
   "id": "1cf56c32",
   "metadata": {},
   "outputs": [
    {
     "data": {
      "image/png": "[encoded data removed]",
      "text/plain": [
       "<Figure size 1080x504 with 1 Axes>"
      ]
     },
     "metadata": {
      "needs_background": "light"
     },
     "output_type": "display_data"
    }
   ],
   "source": [
    "# plotting an empty figure of width 15 and height 7\n",
    "fig = plt.figure(figsize=(15, 7))\n",
    "\n",
    "# Plot the coutplot figure\n",
    "ax = sns.countplot(x='leave', hue='treatment',data = data, palette = 'hls')\n",
    "\n",
    "# to label the values\n",
    "for i in ax.containers:\n",
    "    ax.bar_label(i,)\n",
    "\n",
    "plt.title('Does easiness of taking leave affects mental health?', size=16)\n",
    "\n",
    "plt.xlabel('Level of Easiness to Take Leave', size=14)\n",
    "plt.ylabel('Number of Employees', size=14)\n",
    "\n",
    "# Display the figure\n",
    "plt.show()\n"
   ]
  },
  {
   "cell_type": "markdown",
   "id": "6ed7cd35",
   "metadata": {},
   "source": [
    "Observation:\n",
    "    \n",
    "Many people are not ready to open their mind in this case.\n",
    "But, we can see number of people going for treatment for the cases - 'Somewhat difficult' and 'Very difficult' is more."
   ]
  },
  {
   "cell_type": "markdown",
   "id": "4a49ab06",
   "metadata": {},
   "source": [
    "### Question: Are the employees willing to discuss their mental problems with their supervisors?"
   ]
  },
  {
   "cell_type": "code",
   "execution_count": 39,
   "id": "ac50fdbb",
   "metadata": {},
   "outputs": [
    {
     "data": {
      "image/png": "[encoded data removed]",
      "text/plain": [
       "<Figure size 432x288 with 1 Axes>"
      ]
     },
     "metadata": {},
     "output_type": "display_data"
    }
   ],
   "source": [
    "# declaring data\n",
    "data = data.supervisor.value_counts().to_list()\n",
    "keys = ['Yes', 'No', 'Some of them']\n",
    "  \n",
    "# plotting data on chart\n",
    "plt.pie(data, labels = keys, autopct='%1.1f%%', colors=sns.color_palette('hls'))\n",
    "\n",
    "# displaying chart\n",
    "plt.show()\n"
   ]
  },
  {
   "cell_type": "markdown",
   "id": "f4ca5f8e",
   "metadata": {},
   "source": [
    "Observation:\n",
    "    \n",
    "41% of the employees are willing to discuss their mental problems with supervisors. Others are having mixed reactions."
   ]
  },
  {
   "cell_type": "markdown",
   "id": "c3de6509",
   "metadata": {},
   "source": [
    "### Question: Which countries have contributed the most in terms of mental health?"
   ]
  },
  {
   "cell_type": "code",
   "execution_count": 43,
   "id": "672b1d2f",
   "metadata": {},
   "outputs": [
    {
     "data": {
      "image/png": "[encoded data removed]",
      "text/plain": [
       "<Figure size 1296x504 with 1 Axes>"
      ]
     },
     "metadata": {
      "needs_background": "light"
     },
     "output_type": "display_data"
    }
   ],
   "source": [
    "from collections import Counter\n",
    "\n",
    "# Get top 10 countries name and frequency\n",
    "country_count = Counter(data['Country'].dropna().tolist()).most_common(10)\n",
    "country_index = [country[0] for country in country_count]\n",
    "country_val = [country[1] for country in country_count]\n",
    "\n",
    "# plotting an empty figure of width 18 and height 7\n",
    "fig = plt.figure(figsize=(18, 7))\n",
    "\n",
    "# Plot the barplot figure\n",
    "ax = sns.barplot(x = country_index,y= country_val)\n",
    "\n",
    "# to label the values\n",
    "for i in ax.containers:\n",
    "    ax.bar_label(i,)\n",
    "\n",
    "plt.title(label='Top 10 Countries Contributed Most in Mental Health', size=16)\n",
    "\n",
    "plt.xlabel(xlabel = 'Country', size=14)\n",
    "plt.ylabel(ylabel = 'Frequency', size=14)\n",
    "\n",
    "plt.xticks(size=12)\n",
    "plt.yticks(size=12)\n",
    "\n",
    "# Output the figure\n",
    "plt.show()\n"
   ]
  },
  {
   "cell_type": "markdown",
   "id": "c0bafe81",
   "metadata": {},
   "source": [
    "Observation:\n",
    "    \n",
    "US contributed the most with 750 respondents"
   ]
  },
  {
   "cell_type": "markdown",
   "id": "b203ce26",
   "metadata": {},
   "source": [
    "### Question: Which states in US contributed the most in terms of mental health?"
   ]
  },
  {
   "cell_type": "code",
   "execution_count": 44,
   "id": "c6d9444b",
   "metadata": {},
   "outputs": [
    {
     "data": {
      "image/png": "[encoded data removed]",
      "text/plain": [
       "<Figure size 1296x504 with 1 Axes>"
      ]
     },
     "metadata": {
      "needs_background": "light"
     },
     "output_type": "display_data"
    }
   ],
   "source": [
    "# Extract states data of US\n",
    "usa_data = data[data['Country']=='United States']\n",
    "frequency = usa_data['state'].value_counts()[0:10].values\n",
    "labels = usa_data['state'].value_counts()[0:10].index\n",
    "\n",
    "# plotting an empty figure of width 18 and height 7\n",
    "fig = plt.figure(figsize=(18, 7))\n",
    "\n",
    "# Plot the barplot figure\n",
    "ax = sns.barplot(x = labels, y = frequency)\n",
    "\n",
    "# to label the values\n",
    "for i in ax.containers:\n",
    "    ax.bar_label(i,)\n",
    "\n",
    "plt.title(label='Top 10 States in US Contributed Most in Mental Health', size=16)\n",
    "\n",
    "plt.xlabel(xlabel='State', size=14)\n",
    "plt.ylabel(ylabel='Frequency', size=14)\n",
    "\n",
    "plt.xticks(size=12)\n",
    "plt.yticks(size=12)\n",
    "\n",
    "# Output the figure\n",
    "plt.show()\n"
   ]
  },
  {
   "cell_type": "markdown",
   "id": "a785c007",
   "metadata": {},
   "source": [
    "Observation:\n",
    "\n",
    "CALIFORNIA is the state that contributed the most with 149 respondents"
   ]
  },
  {
   "cell_type": "markdown",
   "id": "4246e98e",
   "metadata": {},
   "source": [
    "### Question: What is the contribution of top 3 countries in terms of mental health?"
   ]
  },
  {
   "cell_type": "code",
   "execution_count": 45,
   "id": "fdf09508",
   "metadata": {},
   "outputs": [
    {
     "name": "stdout",
     "output_type": "stream",
     "text": [
      "The number of contribution of top 3 countries in terms of mental health: 1008\n",
      "Their proportion from total people surveyed is  80.06 %\n"
     ]
    }
   ],
   "source": [
    "# Create a new dataframe based on top 3 countries\n",
    "countries = pd.concat([data.loc[data['Country'] == 'United States'],\n",
    "                       data.loc[data['Country'] == 'United Kingdom'],\n",
    "                       data.loc[data['Country'] == 'Canada']]).reset_index(drop=True)\n",
    "\n",
    "# Display the results\n",
    "print('The number of contribution of top 3 countries in terms of mental health:',countries.shape[0])\n",
    "print('Their proportion from total people surveyed is ', np.round((countries.shape[0]/data.shape[0]*100), decimals = 2),\"%\")\n"
   ]
  },
  {
   "cell_type": "markdown",
   "id": "54312ece",
   "metadata": {},
   "source": [
    "Observation:\n",
    "\n",
    "Top 3 countries - US, UK, Canada contributed 80.11% to the survey in mental health "
   ]
  },
  {
   "cell_type": "markdown",
   "id": "dc4de4e6",
   "metadata": {},
   "source": [
    "## Summarization "
   ]
  },
  {
   "cell_type": "markdown",
   "id": "10891ba6",
   "metadata": {},
   "source": [
    "The mental health survey helped to understand the mental condition of employees working in tech firms across countries. A total of 1259 entries were recorded during the survey out of which 1007 were recorded from the top 3 countries.The United States leads the chart in terms of participation in the survey followed by the United Kingdom and Canada. From a state point of view, California leads the chart when run down the analysis.\n",
    "\n",
    "The following set of parameters are found to be affecting mental health the most and thus requires treatment:\n",
    "    Age,  Gender, Family history, Level of easiness to take leave, and Number of employees in a company.\n",
    "\n",
    "There should be an awareness program about mental health and its effects in every company. Relationship Managers should be supportive with the right guidance towards their employees."
   ]
  }
 ],
 "metadata": {
  "kernelspec": {
   "display_name": "Python 3 (ipykernel)",
   "language": "python",
   "name": "python3"
  },
  "language_info": {
   "codemirror_mode": {
    "name": "ipython",
    "version": 3
   },
   "file_extension": ".py",
   "mimetype": "text/x-python",
   "name": "python",
   "nbconvert_exporter": "python",
   "pygments_lexer": "ipython3",
   "version": "3.9.12"
  }
 },
 "nbformat": 4,
 "nbformat_minor": 5
}
