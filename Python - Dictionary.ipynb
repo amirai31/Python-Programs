{
 "cells": [
  {
   "cell_type": "markdown",
   "id": "fab820e1",
   "metadata": {},
   "source": [
    "### DICTIONARY "
   ]
  },
  {
   "cell_type": "markdown",
   "id": "06885239",
   "metadata": {},
   "source": [
    "#### 1. Write a Python script to add a key to a dictionary."
   ]
  },
  {
   "cell_type": "code",
   "execution_count": 1,
   "id": "0e35e30d",
   "metadata": {},
   "outputs": [
    {
     "name": "stdout",
     "output_type": "stream",
     "text": [
      "{0: 10, 1: 20, 2: 30}\n"
     ]
    }
   ],
   "source": [
    "dict1 = {0: 10, 1: 20}\n",
    "\n",
    "dict1[2] = 30\n",
    "print(dict1)"
   ]
  },
  {
   "cell_type": "markdown",
   "id": "e60fcf84",
   "metadata": {},
   "source": [
    "#### 2. Write a Python script to concatenate the following dictionaries to create a new one."
   ]
  },
  {
   "cell_type": "code",
   "execution_count": 2,
   "id": "e48636e5",
   "metadata": {},
   "outputs": [
    {
     "name": "stdout",
     "output_type": "stream",
     "text": [
      "{1: 10, 2: 20, 3: 30, 4: 40, 5: 50, 6: 60}\n"
     ]
    }
   ],
   "source": [
    "dic1 = {1:10, 2:20}\n",
    "dic2 = {3:30, 4:40}\n",
    "dic3 = {5:50,6:60}\n",
    "dic4 = {}\n",
    "\n",
    "for d in dic1,dic2,dic3:\n",
    "    dic4.update(d)\n",
    "\n",
    "print(dic4)"
   ]
  },
  {
   "cell_type": "markdown",
   "id": "59c2ba02",
   "metadata": {},
   "source": [
    "#### 3. Write a Python script to check whether a given key (10) already exists in a dictionary."
   ]
  },
  {
   "cell_type": "code",
   "execution_count": 3,
   "id": "21cb2998",
   "metadata": {},
   "outputs": [
    {
     "name": "stdout",
     "output_type": "stream",
     "text": [
      "key 10 is not present in the dictionary\n"
     ]
    }
   ],
   "source": [
    "dict3 = {1: 10, 2: 20, 3: 30, 4: 40, 5: 50, 6: 60}\n",
    "val = 10\n",
    "\n",
    "if val in dict3.keys():\n",
    "    print(\"key\",val, \"is present in the dictionary\")\n",
    "else:\n",
    "    print(\"key\",val, \"is not present in the dictionary\")"
   ]
  },
  {
   "cell_type": "markdown",
   "id": "33df69ca",
   "metadata": {},
   "source": [
    "#### 4. Write a Python program to remove a key(age) from a dictionary."
   ]
  },
  {
   "cell_type": "code",
   "execution_count": 4,
   "id": "94ba6cdb",
   "metadata": {},
   "outputs": [
    {
     "name": "stdout",
     "output_type": "stream",
     "text": [
      "{'name': 'John Doe', 'occupation': 'Software Engineer', 'email': 'john@example.com', 'is_employed': True}\n"
     ]
    }
   ],
   "source": [
    "dic4 = {'name': 'John Doe',\n",
    "'age': 30,\n",
    "'occupation': 'Software Engineer',\n",
    "'email': 'john@example.com',\n",
    "'is_employed': True\n",
    "}\n",
    "\n",
    "del dic4['age']\n",
    "print(dic4)"
   ]
  },
  {
   "cell_type": "markdown",
   "id": "8fb36a9f",
   "metadata": {},
   "source": [
    "#### 5. Write a Python program to remove duplicates from the dictionary."
   ]
  },
  {
   "cell_type": "code",
   "execution_count": 5,
   "id": "7cb70a1b",
   "metadata": {},
   "outputs": [
    {
     "name": "stdout",
     "output_type": "stream",
     "text": [
      "{'a': 1, 'b': 2, 'd': 3, 'f': 4}\n"
     ]
    }
   ],
   "source": [
    "dic1 = {'a': 1, 'b': 2, 'c': 1, 'd': 3, 'e': 2, 'f': 4}\n",
    "dic2 = {}\n",
    "\n",
    "for key,val in dic1.items():\n",
    "    if val not in dic2.values():\n",
    "        dic2[key] = val\n",
    "\n",
    "print(dic2)"
   ]
  },
  {
   "cell_type": "markdown",
   "id": "0660e115",
   "metadata": {},
   "source": [
    "#### 6. Write a Python program to get the maximum and minimum values of a dictionary."
   ]
  },
  {
   "cell_type": "code",
   "execution_count": 6,
   "id": "7834a295",
   "metadata": {},
   "outputs": [
    {
     "name": "stdout",
     "output_type": "stream",
     "text": [
      "Maximum value is 5874\n",
      "Maximum value is 500\n"
     ]
    }
   ],
   "source": [
    "dic6 = {'u':1000,'v':3000,'x':500, 'y':5874, 'z': 560}\n",
    "\n",
    "values =  dic6.values()\n",
    "\n",
    "print(\"Maximum value is\",max(values))\n",
    "print(\"Maximum value is\",min(values))"
   ]
  },
  {
   "cell_type": "markdown",
   "id": "4ab877ac",
   "metadata": {},
   "source": [
    "#### 7. Write a Python program to check if a dictionary is empty or not."
   ]
  },
  {
   "cell_type": "code",
   "execution_count": 7,
   "id": "beb6bfdf",
   "metadata": {},
   "outputs": [
    {
     "name": "stdout",
     "output_type": "stream",
     "text": [
      "Dictionary is Empty\n"
     ]
    }
   ],
   "source": [
    "my_dict = {}\n",
    "\n",
    "if(len(my_dict) == 0):\n",
    "    print(\"Dictionary is Empty\")\n",
    "else:\n",
    "    print(\"Dictionary is not Empty\")"
   ]
  },
  {
   "cell_type": "markdown",
   "id": "8c9fa735",
   "metadata": {},
   "source": [
    "#### 8. Write a Python program to create a dictionary of keys x, y, and z where each key has as value a list from 11-20, 21-30, and 31-40 respectively. Access the fifth value of each key from the dictionary."
   ]
  },
  {
   "cell_type": "code",
   "execution_count": 8,
   "id": "ab7de754",
   "metadata": {},
   "outputs": [
    {
     "name": "stdout",
     "output_type": "stream",
     "text": [
      "{'x': [11, 12, 13, 14, 15, 16, 17, 18, 19], 'y': [21, 22, 23, 24, 25, 26, 27, 28, 29], 'z': [31, 32, 33, 34, 35, 36, 37, 38, 39]}\n",
      "15\n",
      "25\n",
      "35\n"
     ]
    }
   ],
   "source": [
    "dic8 = dict(x = list(range(11,20)), y=list(range(21, 30)), z=list(range(31, 40))) \n",
    "print(dic8)\n",
    "\n",
    "print(dic8['x'][4])\n",
    "print(dic8['y'][4])\n",
    "print(dic8['z'][4])"
   ]
  },
  {
   "cell_type": "markdown",
   "id": "40930af4",
   "metadata": {},
   "source": [
    "#### 9. Write a Python program to drop empty items from a given dictionary."
   ]
  },
  {
   "cell_type": "code",
   "execution_count": 9,
   "id": "a083b762",
   "metadata": {},
   "outputs": [
    {
     "name": "stdout",
     "output_type": "stream",
     "text": [
      "{'c1': 'Red', 'c2': 'Green'}\n"
     ]
    }
   ],
   "source": [
    "dic9 = {'c1': 'Red', 'c2': 'Green', 'c3': None}\n",
    "\n",
    "dic9 = {key:val for key,val in dic9.items() if val is not None}\n",
    "print(dic9)"
   ]
  },
  {
   "cell_type": "markdown",
   "id": "8f3f624c",
   "metadata": {},
   "source": [
    "#### 10. Write a Python program to filter a dictionary based on values>170"
   ]
  },
  {
   "cell_type": "code",
   "execution_count": 10,
   "id": "0df4f16a",
   "metadata": {},
   "outputs": [
    {
     "name": "stdout",
     "output_type": "stream",
     "text": [
      "{'Cierra Vega': 175, 'Alden Cantrell': 180, 'Pierre Cox': 190}\n"
     ]
    }
   ],
   "source": [
    "dic10 = {'Cierra Vega': 175, 'Alden Cantrell': 180, 'Kierra Gentry': 165, 'Pierre Cox': 190}\n",
    "\n",
    "dic10 = {key:val for key,val in dic10.items() if val>170}\n",
    "print(dic10)"
   ]
  },
  {
   "cell_type": "markdown",
   "id": "f5123bec",
   "metadata": {},
   "source": [
    "#### 11. Write a Python program to verify that all values in a dictionary are the same."
   ]
  },
  {
   "cell_type": "code",
   "execution_count": 11,
   "id": "f5d5a5f7",
   "metadata": {},
   "outputs": [
    {
     "name": "stdout",
     "output_type": "stream",
     "text": [
      "All values are 12\n"
     ]
    }
   ],
   "source": [
    "dic11 = {'Cierra Vega': 12, 'Alden Cantrell': 12, 'Kierra Gentry': 12, 'Pierre Cox':12}\n",
    "\n",
    "val = dic11['Cierra Vega']\n",
    "\n",
    "result = all(x == val for x in dic11.values()) \n",
    "\n",
    "if result is True:\n",
    "    print(\"All values are\", val)"
   ]
  },
  {
   "cell_type": "markdown",
   "id": "97663ec7",
   "metadata": {},
   "source": [
    "#### 12. Write a Python program to convert string values of a given dictionary into integer/float datatypes."
   ]
  },
  {
   "cell_type": "code",
   "execution_count": 12,
   "id": "38470bd2",
   "metadata": {},
   "outputs": [
    {
     "name": "stdout",
     "output_type": "stream",
     "text": [
      "String values of a given dictionary, into integer types:\n",
      "[{'x': 10, 'y': 20, 'z': 30}, {'p': 40, 'q': 50, 'r': 60}]\n",
      "\n",
      "String values of a given dictionary, into float types:\n",
      "[{'x': 10.0, 'y': 20.0, 'z': 30.0}, {'p': 40.0, 'q': 50.0, 'r': 60.0}]\n"
     ]
    }
   ],
   "source": [
    "dic12 = [{'x': '10', 'y': '20', 'z': '30'}, {'p': '40', 'q': '50', 'r': '60'}]\n",
    "dic12\n",
    "\n",
    "print(\"String values of a given dictionary, into integer types:\")\n",
    "result1 = [dict([a, int(x)] for a, x in b.items()) for b in dic12]\n",
    "print(result1)\n",
    "\n",
    "print()\n",
    "\n",
    "print(\"String values of a given dictionary, into float types:\")\n",
    "result2 = [dict([a, float(x)] for a, x in b.items()) for b in dic12]\n",
    "print(result2)"
   ]
  },
  {
   "cell_type": "markdown",
   "id": "65187748",
   "metadata": {},
   "source": [
    "#### 13. Write a Python program to filter even numbers from a dictionary of values."
   ]
  },
  {
   "cell_type": "code",
   "execution_count": 13,
   "id": "5bcca618",
   "metadata": {},
   "outputs": [
    {
     "name": "stdout",
     "output_type": "stream",
     "text": [
      "{'V': [4, 6, 10], 'VI': [4, 12], 'VII': [8]}\n"
     ]
    }
   ],
   "source": [
    "dic13 = {'V': [1, 4, 6, 10], 'VI': [1, 4, 12], 'VII': [1, 3, 8]}\n",
    "dic1 = {}\n",
    "temp = {}\n",
    "\n",
    "for key,val in dic13.items():\n",
    "    temp = {key: [x for x in val if x%2 == 0]}\n",
    "\n",
    "    dic1.update(temp)\n",
    "\n",
    "print(dic1)    "
   ]
  }
 ],
 "metadata": {
  "kernelspec": {
   "display_name": "Python 3 (ipykernel)",
   "language": "python",
   "name": "python3"
  },
  "language_info": {
   "codemirror_mode": {
    "name": "ipython",
    "version": 3
   },
   "file_extension": ".py",
   "mimetype": "text/x-python",
   "name": "python",
   "nbconvert_exporter": "python",
   "pygments_lexer": "ipython3",
   "version": "3.9.12"
  }
 },
 "nbformat": 4,
 "nbformat_minor": 5
}
