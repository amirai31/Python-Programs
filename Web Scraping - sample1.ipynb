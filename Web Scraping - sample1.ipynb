{
 "cells": [
  {
   "cell_type": "code",
   "execution_count": 1,
   "id": "a5a40d9a",
   "metadata": {},
   "outputs": [],
   "source": [
    "# Importing the 'webdriver' module from the 'selenium' package\n",
    "from selenium import webdriver"
   ]
  },
  {
   "cell_type": "code",
   "execution_count": 2,
   "id": "6c733158",
   "metadata": {},
   "outputs": [],
   "source": [
    "# Importing the 'sleep' function from the 'time' module\n",
    "from time import sleep"
   ]
  },
  {
   "cell_type": "code",
   "execution_count": 5,
   "id": "672cf9aa",
   "metadata": {},
   "outputs": [],
   "source": [
    "# Initializing the Chrome webdriver\n",
    "browser = webdriver.Chrome()\n",
    "\n",
    "# Navigating to LinkedIn page\n",
    "browser.get('https://www.linkedin.com/')\n",
    "\n",
    "# Waiting for 10 seconds\n",
    "sleep(10)\n",
    "\n",
    "# Closing the browser window\n",
    "browser.close()"
   ]
  },
  {
   "cell_type": "code",
   "execution_count": null,
   "id": "1a2c38c6",
   "metadata": {},
   "outputs": [],
   "source": []
  }
 ],
 "metadata": {
  "kernelspec": {
   "display_name": "Python 3 (ipykernel)",
   "language": "python",
   "name": "python3"
  },
  "language_info": {
   "codemirror_mode": {
    "name": "ipython",
    "version": 3
   },
   "file_extension": ".py",
   "mimetype": "text/x-python",
   "name": "python",
   "nbconvert_exporter": "python",
   "pygments_lexer": "ipython3",
   "version": "3.9.12"
  }
 },
 "nbformat": 4,
 "nbformat_minor": 5
}
