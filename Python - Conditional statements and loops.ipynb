{
 "cells": [
  {
   "cell_type": "markdown",
   "id": "8231fa8f",
   "metadata": {},
   "source": [
    "### Python Conditional Statements and loops"
   ]
  },
  {
   "cell_type": "markdown",
   "id": "08c32896",
   "metadata": {},
   "source": [
    "#### Q1.Write a Python program to find those numbers which are divisible by 7 and multiples of 5, between 1500 and 2700 (both included)."
   ]
  },
  {
   "cell_type": "code",
   "execution_count": 1,
   "id": "c588b8fb",
   "metadata": {},
   "outputs": [
    {
     "name": "stdout",
     "output_type": "stream",
     "text": [
      "Numbers are: 1505 1540 1575 1610 1645 1680 1715 1750 1785 1820 1855 1890 1925 1960 1995 2030 2065 2100 2135 2170 2205 2240 2275 2310 2345 2380 2415 2450 2485 2520 2555 2590 2625 2660 2695 "
     ]
    }
   ],
   "source": [
    "print(\"Numbers are: \", end=\"\")\n",
    "\n",
    "for num in range(1500,2701):\n",
    "    if num%5 == 0 and num%7 == 0:\n",
    "        print(num,end=\" \")\n",
    "        "
   ]
  },
  {
   "cell_type": "markdown",
   "id": "b0f360b8",
   "metadata": {},
   "source": [
    "#### Q2. Write a Python program that accepts a word from the user and reverses it."
   ]
  },
  {
   "cell_type": "code",
   "execution_count": 2,
   "id": "57a33c15",
   "metadata": {},
   "outputs": [
    {
     "name": "stdout",
     "output_type": "stream",
     "text": [
      "Input a word to reverse:India\n",
      "The reversed word is: aidnI\n"
     ]
    }
   ],
   "source": [
    "word = input(\"Input a word to reverse:\")\n",
    "print(\"The reversed word is:\",word[::-1])\n"
   ]
  },
  {
   "cell_type": "markdown",
   "id": "8b5809e4",
   "metadata": {},
   "source": [
    "#### Q3. Write a Python program that prints all the numbers from 0 to 6 except 3 and 6. Note : Use 'continue' statement"
   ]
  },
  {
   "cell_type": "code",
   "execution_count": 3,
   "id": "95b54fbe",
   "metadata": {},
   "outputs": [
    {
     "name": "stdout",
     "output_type": "stream",
     "text": [
      "Numbers are: 0 1 2 4 5 "
     ]
    }
   ],
   "source": [
    "print(\"Numbers are: \", end=\"\")\n",
    "\n",
    "for num in range(0,7):\n",
    "    if num==3 or num==6:\n",
    "        continue\n",
    "        \n",
    "    print(num, end = \" \")\n",
    "    "
   ]
  },
  {
   "cell_type": "markdown",
   "id": "3c44f444",
   "metadata": {},
   "source": [
    "#### Q4. Write a Python program that prints each item and its corresponding type from the following list."
   ]
  },
  {
   "cell_type": "code",
   "execution_count": 4,
   "id": "28ba249d",
   "metadata": {},
   "outputs": [
    {
     "name": "stdout",
     "output_type": "stream",
     "text": [
      "Type of 1452 is <class 'int'>\n",
      "Type of 11.23 is <class 'float'>\n",
      "Type of (1+2j) is <class 'complex'>\n",
      "Type of True is <class 'bool'>\n",
      "Type of w3resource is <class 'str'>\n",
      "Type of (0, -1) is <class 'tuple'>\n",
      "Type of [5, 12] is <class 'list'>\n",
      "Type of {'class': 'V', 'section': 'A'} is <class 'dict'>\n"
     ]
    }
   ],
   "source": [
    "INPUT = [1452, 11.23, 1+2j, True, 'w3resource', (0, -1), [5, 12], {\"class\":'V', \"section\":'A'}]\n",
    "\n",
    "for item in INPUT:\n",
    "    print(\"Type of\",item, \"is\",type(item))\n",
    "    "
   ]
  },
  {
   "cell_type": "markdown",
   "id": "1d42474e",
   "metadata": {},
   "source": [
    "#### Q5. Write a Python program to check the validity of passwords input by users. "
   ]
  },
  {
   "cell_type": "markdown",
   "id": "a6eca984",
   "metadata": {},
   "source": [
    "Validation : \n",
    "At least 1 letter between [a-z] and 1 letter between [A-Z].\n",
    "At least 1 number between [0-9].\n",
    "At least 1 character from [$#@].\n",
    "Minimum length 6 characters.\n",
    "Maximum length 16 characters."
   ]
  },
  {
   "cell_type": "code",
   "execution_count": 5,
   "id": "7ff73aa4",
   "metadata": {},
   "outputs": [
    {
     "name": "stdout",
     "output_type": "stream",
     "text": [
      "Input your password:S3r@100a\n",
      "Valid password\n"
     ]
    }
   ],
   "source": [
    "# Solution 1\n",
    "#checking validity of passwords using Regular Expression\n",
    "\n",
    "import re\n",
    "\n",
    "string = input(\"Input your password:\")\n",
    "flag = 0\n",
    "\n",
    "while True:        \n",
    "    if len(string)<6 or len(string)>16:\n",
    "        break\n",
    "        \n",
    "    elif not re.search(\"[a-z]\",string):\n",
    "        break\n",
    "        \n",
    "    elif not re.search(\"[A-Z]\",string):\n",
    "        break\n",
    "    \n",
    "    elif not re.search(\"[0-9]\",string):\n",
    "        break\n",
    "    \n",
    "    elif not re.search(\"[$#@]\",string):\n",
    "        break\n",
    "    \n",
    "    else:\n",
    "        flag = 1\n",
    "        break    \n",
    "        \n",
    "if flag == 0:\n",
    "    print(\"Not a Valid password\")\n",
    "else:\n",
    "    print(\"Valid password\")\n",
    "    "
   ]
  },
  {
   "cell_type": "code",
   "execution_count": 6,
   "id": "dcf0c42b",
   "metadata": {},
   "outputs": [
    {
     "name": "stdout",
     "output_type": "stream",
     "text": [
      "Input your password: s3r@100a\n",
      "Invalid Password\n"
     ]
    }
   ],
   "source": [
    "# Solution 2\n",
    "# Function to check the validity of a password\n",
    "\n",
    "def is_valid_password(password):\n",
    "    # Check the length of the password\n",
    "    if len(password) < 6 or len(password) > 16:\n",
    "        return False\n",
    "    \n",
    "    has_lowercase = False\n",
    "    has_uppercase = False\n",
    "    has_digit = False\n",
    "    has_special = False\n",
    "    \n",
    "    # Iterate through each character in the password\n",
    "    for char in password:\n",
    "        if char.islower():\n",
    "            has_lowercase = True\n",
    "        elif char.isupper():\n",
    "            has_uppercase = True\n",
    "        elif char.isdigit():\n",
    "            has_digit = True\n",
    "        elif char in ['$','#','@']:\n",
    "            has_special = True\n",
    "    \n",
    "    # Check if all validation conditions are met\n",
    "    if has_lowercase and has_uppercase and has_digit and has_special:\n",
    "        return True\n",
    "    else:\n",
    "        return False\n",
    "\n",
    " # Input password from the user\n",
    "password = input(\"Input your password: \")\n",
    "    \n",
    "# Check password validity\n",
    "if is_valid_password(password):\n",
    "    print(\"Valid Password\")\n",
    "else:\n",
    "    print(\"Invalid Password\")\n",
    "    "
   ]
  },
  {
   "cell_type": "markdown",
   "id": "8badbc13",
   "metadata": {},
   "source": [
    "#### Q6. Write a Python program to get the Fibonacci series between 0 and 50."
   ]
  },
  {
   "cell_type": "code",
   "execution_count": 7,
   "id": "c9c8482a",
   "metadata": {},
   "outputs": [
    {
     "name": "stdout",
     "output_type": "stream",
     "text": [
      "Enter the upper limit:50\n",
      "Fibonacci series between 0 and 50: 1 1 2 3 5 8 13 21 34 "
     ]
    }
   ],
   "source": [
    "x = 0\n",
    "y = 1\n",
    "lim = int(input(\"Enter the upper limit:\"))\n",
    "\n",
    "print(\"Fibonacci series between {} and {}: \".format(x,lim),end=\"\")\n",
    "\n",
    "while y < lim:\n",
    "    print(y, end=\" \")\n",
    "    x,y = y,x+y\n",
    "    "
   ]
  },
  {
   "cell_type": "markdown",
   "id": "e7d04fdb",
   "metadata": {},
   "source": [
    "#### Q7. Write a Python program to check whether an alphabet is a vowel or consonant."
   ]
  },
  {
   "cell_type": "code",
   "execution_count": 8,
   "id": "a6881172",
   "metadata": {},
   "outputs": [
    {
     "name": "stdout",
     "output_type": "stream",
     "text": [
      "Input a letter of the alphabet:i\n",
      "i is a vowel\n"
     ]
    }
   ],
   "source": [
    "alpha = input(\"Input a letter of the alphabet:\")\n",
    "\n",
    "if alpha.lower() in (\"a\",\"e\",\"i\",\"o\",\"u\"):\n",
    "    print(alpha, \"is a vowel\")\n",
    "else:\n",
    "    print(\"The alphabet\",alpha, \"is a consonant\")\n"
   ]
  },
  {
   "cell_type": "markdown",
   "id": "f91d7bd2",
   "metadata": {},
   "source": [
    "#### Q8. Write a Python program that takes a string as input and replaces all occurrences of a given character with another character."
   ]
  },
  {
   "cell_type": "code",
   "execution_count": 9,
   "id": "ca2d4ba5",
   "metadata": {},
   "outputs": [
    {
     "name": "stdout",
     "output_type": "stream",
     "text": [
      "Enter a string:Aadi\n",
      "Enter the character to replace:d\n",
      "Enter the replacement character:m\n",
      "The new string is: Aami\n"
     ]
    }
   ],
   "source": [
    "string = input(\"Enter a string:\")\n",
    "to_replace = input(\"Enter the character to replace:\")\n",
    "replacement = input(\"Enter the replacement character:\")\n",
    "\n",
    "print(\"The new string is:\",string.replace(to_replace, replacement))\n"
   ]
  },
  {
   "cell_type": "markdown",
   "id": "05772c0d",
   "metadata": {},
   "source": [
    "#### Q9. Write a Python program that takes a string as input and checks if it is a palindrome (reads the same forwards and backward)."
   ]
  },
  {
   "cell_type": "code",
   "execution_count": 10,
   "id": "fb404a36",
   "metadata": {},
   "outputs": [
    {
     "name": "stdout",
     "output_type": "stream",
     "text": [
      "Enter a string:madam\n",
      "madam is a palindrome\n"
     ]
    }
   ],
   "source": [
    "string = input(\"Enter a string:\")\n",
    "\n",
    "string1= string[::-1]\n",
    "\n",
    "if string == string1:\n",
    "    print(string, \"is a palindrome\")\n",
    "else:\n",
    "    print(\"The string\",string, \"is not a palindrome\")\n",
    "    "
   ]
  },
  {
   "cell_type": "markdown",
   "id": "c519912f",
   "metadata": {},
   "source": [
    "#### Q10. Write a Python program that takes a sentence as input and capitalizes the first letter of each word."
   ]
  },
  {
   "cell_type": "code",
   "execution_count": 11,
   "id": "f88f831d",
   "metadata": {},
   "outputs": [
    {
     "name": "stdout",
     "output_type": "stream",
     "text": [
      "Enter a sentence:India is my country.\n",
      "Capitalized sentence: India Is My Country.\n"
     ]
    }
   ],
   "source": [
    "string = input(\"Enter a sentence:\")\n",
    "\n",
    "print(\"Capitalized sentence:\",string.title())\n"
   ]
  },
  {
   "cell_type": "markdown",
   "id": "b3fc847e",
   "metadata": {},
   "source": [
    "#### Q11. Write a Python program that takes two lists as input and returns a new list containing the common elements between the two lists."
   ]
  },
  {
   "cell_type": "code",
   "execution_count": 12,
   "id": "03030302",
   "metadata": {},
   "outputs": [
    {
     "name": "stdout",
     "output_type": "stream",
     "text": [
      "Common elements in the two lists are: [3, 4, 5]\n"
     ]
    }
   ],
   "source": [
    "list1 = [1, 2, 3, 4, 5]\n",
    "list2 = [3, 4, 5, 6, 7]\n",
    "\n",
    "list3 = [x for x in list1 if x in list2]\n",
    "print(\"Common elements in the two lists are:\",list3)   \n"
   ]
  }
 ],
 "metadata": {
  "kernelspec": {
   "display_name": "Python 3 (ipykernel)",
   "language": "python",
   "name": "python3"
  },
  "language_info": {
   "codemirror_mode": {
    "name": "ipython",
    "version": 3
   },
   "file_extension": ".py",
   "mimetype": "text/x-python",
   "name": "python",
   "nbconvert_exporter": "python",
   "pygments_lexer": "ipython3",
   "version": "3.9.12"
  }
 },
 "nbformat": 4,
 "nbformat_minor": 5
}
